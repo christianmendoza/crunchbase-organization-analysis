{
 "cells": [
  {
   "cell_type": "markdown",
   "id": "bddac626-3cef-487c-afac-7ae484586416",
   "metadata": {},
   "source": [
    "# Crunchbase Company Profiles: An Analysis\n",
    "### 1. Introduction\n",
    "\n",
    "[Crunchbase](https://www.crunchbase.com/home) is the leading destination for company insights from early-stage startups to the Fortune 1000.\n",
    "\n",
    "The goal of this project is to analyze the organization profiles available on its platform via its daily CSV export, mainly the geographic data.\n",
    "\n",
    "The `organizations.csv` dataset explored in this project is from `Wed, Mar 15, 2023`. The latest dataset file can be downloaded Crunchbase's [Daily CSV Export](https://data.crunchbase.com/docs/daily-csv-export) page documentation."
   ]
  },
  {
   "cell_type": "markdown",
   "id": "65442320-bf8a-45f9-a659-18b345761099",
   "metadata": {},
   "source": [
    "### 2. Download the organizations dataset\n",
    "\n",
    "After generating and obtaining an API key, downloading the dataset is as easy as just visiting the below URL in a browser:\n",
    "\n",
    "`https://api.crunchbase.com/odm/v4/odm.tar.gz?user_key=user_key`"
   ]
  },
  {
   "cell_type": "code",
   "execution_count": 1,
   "id": "9687c008-a198-4366-ace1-c8af866f7087",
   "metadata": {
    "tags": []
   },
   "outputs": [],
   "source": [
    "import os\n",
    "import requests\n",
    "\n",
    "cb_file = 'data/crunchbase.tar.gz'\n",
    "\n",
    "if not os.path.exists(cb_file):\n",
    "    url = 'https://api.crunchbase.com/odm/v4/odm.tar.gz?user_key=' + os.environ.get('cb_api_key')\n",
    "    response = requests.get(url)\n",
    "    open(cb_file, 'wb').write(response.content)"
   ]
  },
  {
   "cell_type": "code",
   "execution_count": 2,
   "id": "6d789f1c-4cfe-4e21-a571-0713ef602608",
   "metadata": {
    "tags": []
   },
   "outputs": [
    {
     "name": "stdout",
     "output_type": "stream",
     "text": [
      "crunchbase.tar.gz\n"
     ]
    }
   ],
   "source": [
    "!ls -1 data"
   ]
  },
  {
   "cell_type": "code",
   "execution_count": 3,
   "id": "69f2541f-3a64-469d-a421-8c5734f6047f",
   "metadata": {
    "tags": []
   },
   "outputs": [
    {
     "name": "stdout",
     "output_type": "stream",
     "text": [
      "-rwxr-xr-x 1 jovyan users 437M Mar 16 13:15 data/crunchbase.tar.gz\n"
     ]
    }
   ],
   "source": [
    "# check the file size\n",
    "!ls -lh data/crunchbase.tar.gz"
   ]
  },
  {
   "cell_type": "code",
   "execution_count": 4,
   "id": "bd8a1c17-da20-4138-b209-c89bc976c413",
   "metadata": {
    "tags": []
   },
   "outputs": [
    {
     "name": "stdout",
     "output_type": "stream",
     "text": [
      "people.csv\n",
      "organizations.csv\n",
      "checksum.csv\n"
     ]
    }
   ],
   "source": [
    "# untar the file to the 'data' directory\n",
    "!tar -xvf data/crunchbase.tar.gz --directory data"
   ]
  },
  {
   "cell_type": "code",
   "execution_count": 5,
   "id": "31d21355-3dea-432a-b04d-2489f478fd84",
   "metadata": {
    "tags": []
   },
   "outputs": [
    {
     "name": "stdout",
     "output_type": "stream",
     "text": [
      "-rwxr-xr-x 1 jovyan users  210 Mar 15 20:19 data/checksum.csv\n",
      "-rwxr-xr-x 1 jovyan users 1.3G Mar 15 20:19 data/organizations.csv\n",
      "-rwxr-xr-x 1 jovyan users 394M Mar 15 20:15 data/people.csv\n"
     ]
    }
   ],
   "source": [
    "# check the file sizes\n",
    "!ls -lh data/*.csv"
   ]
  },
  {
   "cell_type": "code",
   "execution_count": 6,
   "id": "32353a80-9b87-4836-bde2-dfb479931d41",
   "metadata": {
    "tags": []
   },
   "outputs": [
    {
     "name": "stdout",
     "output_type": "stream",
     "text": [
      "filename,previous_check_sum,current_check_sum\n",
      "organizations.csv,28a9f3b94e26176acdbc224d815b3d34,b0b84b53c5882a70ced6a70366a07f03\n",
      "people.csv,1647b38fe8dc3febe53fd861bab1c26e,99aeb4099447e30fd813c0c69a587422\n"
     ]
    }
   ],
   "source": [
    "# view the checksum\n",
    "!cat data/checksum.csv"
   ]
  },
  {
   "cell_type": "code",
   "execution_count": 7,
   "id": "42b9c1a4-65fb-4edd-b648-91a350421923",
   "metadata": {
    "tags": []
   },
   "outputs": [
    {
     "name": "stdout",
     "output_type": "stream",
     "text": [
      "b0b84b53c5882a70ced6a70366a07f03  data/organizations.csv\n"
     ]
    }
   ],
   "source": [
    "# verify the checksum matches\n",
    "!md5sum data/organizations.csv"
   ]
  },
  {
   "cell_type": "code",
   "execution_count": 8,
   "id": "64879dbc-05cc-443c-bbc7-473e6ed9706e",
   "metadata": {
    "tags": []
   },
   "outputs": [
    {
     "name": "stdout",
     "output_type": "stream",
     "text": [
      "data:\n",
      "crunchbase.tar.gz\n",
      "organizations.csv\n"
     ]
    }
   ],
   "source": [
    "# delete un-needed files\n",
    "!rm data/checksum.csv data/people.csv\n",
    "!ls -R1 data"
   ]
  },
  {
   "cell_type": "code",
   "execution_count": 9,
   "id": "aa36fc3b-e9b1-4231-9391-a14912278a87",
   "metadata": {
    "tags": []
   },
   "outputs": [
    {
     "name": "stdout",
     "output_type": "stream",
     "text": [
      "2502933 data/organizations.csv\n"
     ]
    }
   ],
   "source": [
    "# check to see approximately how many rows\n",
    "!wc -l data/organizations.csv"
   ]
  },
  {
   "cell_type": "markdown",
   "id": "21e6a965-3a85-4601-a3b1-07b5ba02afa7",
   "metadata": {},
   "source": [
    "### 3. Preload the dataset\n",
    "\n",
    "Let's see a preview of the first 3 rows:"
   ]
  },
  {
   "cell_type": "code",
   "execution_count": 10,
   "id": "fb49bc45-f1d8-497f-91ba-b903b05b49d7",
   "metadata": {
    "tags": []
   },
   "outputs": [
    {
     "data": {
      "text/html": [
       "<div>\n",
       "<style scoped>\n",
       "    .dataframe tbody tr th:only-of-type {\n",
       "        vertical-align: middle;\n",
       "    }\n",
       "\n",
       "    .dataframe tbody tr th {\n",
       "        vertical-align: top;\n",
       "    }\n",
       "\n",
       "    .dataframe thead th {\n",
       "        text-align: right;\n",
       "    }\n",
       "</style>\n",
       "<table border=\"1\" class=\"dataframe\">\n",
       "  <thead>\n",
       "    <tr style=\"text-align: right;\">\n",
       "      <th></th>\n",
       "      <th>uuid</th>\n",
       "      <th>name</th>\n",
       "      <th>type</th>\n",
       "      <th>primary_role</th>\n",
       "      <th>cb_url</th>\n",
       "      <th>domain</th>\n",
       "      <th>homepage_url</th>\n",
       "      <th>logo_url</th>\n",
       "      <th>facebook_url</th>\n",
       "      <th>twitter_url</th>\n",
       "      <th>linkedin_url</th>\n",
       "      <th>combined_stock_symbols</th>\n",
       "      <th>city</th>\n",
       "      <th>region</th>\n",
       "      <th>country_code</th>\n",
       "      <th>short_description</th>\n",
       "    </tr>\n",
       "  </thead>\n",
       "  <tbody>\n",
       "    <tr>\n",
       "      <th>0</th>\n",
       "      <td>e1393508-30ea-8a36-3f96-dd3226033abd</td>\n",
       "      <td>Wetpaint</td>\n",
       "      <td>organization</td>\n",
       "      <td>company</td>\n",
       "      <td>https://www.crunchbase.com/organization/wetpai...</td>\n",
       "      <td>wetpaint.com</td>\n",
       "      <td>http://www.wetpaint.com/</td>\n",
       "      <td>https://res.cloudinary.com/crunchbase-producti...</td>\n",
       "      <td>https://www.facebook.com/Wetpaint</td>\n",
       "      <td>https://twitter.com/wetpainttv</td>\n",
       "      <td>NaN</td>\n",
       "      <td>NaN</td>\n",
       "      <td>New York</td>\n",
       "      <td>New York</td>\n",
       "      <td>USA</td>\n",
       "      <td>Wetpaint offers an online social publishing pl...</td>\n",
       "    </tr>\n",
       "    <tr>\n",
       "      <th>1</th>\n",
       "      <td>bf4d7b0e-b34d-2fd8-d292-6049c4f7efc7</td>\n",
       "      <td>Zoho</td>\n",
       "      <td>organization</td>\n",
       "      <td>company</td>\n",
       "      <td>https://www.crunchbase.com/organization/zoho?u...</td>\n",
       "      <td>zoho.com</td>\n",
       "      <td>https://www.zoho.com</td>\n",
       "      <td>https://res.cloudinary.com/crunchbase-producti...</td>\n",
       "      <td>http://www.facebook.com/zoho</td>\n",
       "      <td>http://twitter.com/zoho</td>\n",
       "      <td>https://www.linkedin.com/company/zoho</td>\n",
       "      <td>NaN</td>\n",
       "      <td>Pleasanton</td>\n",
       "      <td>California</td>\n",
       "      <td>USA</td>\n",
       "      <td>Zoho offers a suite of business, collaboration...</td>\n",
       "    </tr>\n",
       "    <tr>\n",
       "      <th>2</th>\n",
       "      <td>5f2b40b8-d1b3-d323-d81a-b7a8e89553d0</td>\n",
       "      <td>Digg</td>\n",
       "      <td>organization</td>\n",
       "      <td>company</td>\n",
       "      <td>https://www.crunchbase.com/organization/digg?u...</td>\n",
       "      <td>digg.com</td>\n",
       "      <td>http://www.digg.com</td>\n",
       "      <td>https://res.cloudinary.com/crunchbase-producti...</td>\n",
       "      <td>http://www.facebook.com/digg</td>\n",
       "      <td>http://twitter.com/digg</td>\n",
       "      <td>http://www.linkedin.com/company/digg</td>\n",
       "      <td>NaN</td>\n",
       "      <td>New York</td>\n",
       "      <td>New York</td>\n",
       "      <td>USA</td>\n",
       "      <td>Digg Inc. operates a website that enables its ...</td>\n",
       "    </tr>\n",
       "  </tbody>\n",
       "</table>\n",
       "</div>"
      ],
      "text/plain": [
       "                                   uuid      name          type primary_role  \\\n",
       "0  e1393508-30ea-8a36-3f96-dd3226033abd  Wetpaint  organization      company   \n",
       "1  bf4d7b0e-b34d-2fd8-d292-6049c4f7efc7      Zoho  organization      company   \n",
       "2  5f2b40b8-d1b3-d323-d81a-b7a8e89553d0      Digg  organization      company   \n",
       "\n",
       "                                              cb_url        domain  \\\n",
       "0  https://www.crunchbase.com/organization/wetpai...  wetpaint.com   \n",
       "1  https://www.crunchbase.com/organization/zoho?u...      zoho.com   \n",
       "2  https://www.crunchbase.com/organization/digg?u...      digg.com   \n",
       "\n",
       "               homepage_url  \\\n",
       "0  http://www.wetpaint.com/   \n",
       "1      https://www.zoho.com   \n",
       "2       http://www.digg.com   \n",
       "\n",
       "                                            logo_url  \\\n",
       "0  https://res.cloudinary.com/crunchbase-producti...   \n",
       "1  https://res.cloudinary.com/crunchbase-producti...   \n",
       "2  https://res.cloudinary.com/crunchbase-producti...   \n",
       "\n",
       "                        facebook_url                     twitter_url  \\\n",
       "0  https://www.facebook.com/Wetpaint  https://twitter.com/wetpainttv   \n",
       "1       http://www.facebook.com/zoho         http://twitter.com/zoho   \n",
       "2       http://www.facebook.com/digg         http://twitter.com/digg   \n",
       "\n",
       "                            linkedin_url  combined_stock_symbols        city  \\\n",
       "0                                    NaN                     NaN    New York   \n",
       "1  https://www.linkedin.com/company/zoho                     NaN  Pleasanton   \n",
       "2   http://www.linkedin.com/company/digg                     NaN    New York   \n",
       "\n",
       "       region country_code                                  short_description  \n",
       "0    New York          USA  Wetpaint offers an online social publishing pl...  \n",
       "1  California          USA  Zoho offers a suite of business, collaboration...  \n",
       "2    New York          USA  Digg Inc. operates a website that enables its ...  "
      ]
     },
     "execution_count": 10,
     "metadata": {},
     "output_type": "execute_result"
    }
   ],
   "source": [
    "import pandas as pd\n",
    "\n",
    "first_3_rows = pd.read_csv('data/organizations.csv', nrows=3)\n",
    "\n",
    "first_3_rows"
   ]
  },
  {
   "cell_type": "markdown",
   "id": "882609f2-4b58-4715-b9c4-4c189266a482",
   "metadata": {},
   "source": [
    "### 4. Select which columns to drop.\n",
    "\n",
    "For our analysis purposes, we can drop these 9 columns:\n",
    "\n",
    "```\n",
    "uuid\n",
    "cb_url\n",
    "domain\n",
    "homepage_url\n",
    "logo_url\n",
    "facebook_url\n",
    "twitter_url\n",
    "linkedin_url\n",
    "short_description\n",
    "```"
   ]
  },
  {
   "cell_type": "code",
   "execution_count": 11,
   "id": "dce6db7e-0129-4858-bbff-b746b9ae9ca6",
   "metadata": {
    "tags": []
   },
   "outputs": [
    {
     "data": {
      "text/plain": [
       "['name',\n",
       " 'type',\n",
       " 'primary_role',\n",
       " 'combined_stock_symbols',\n",
       " 'city',\n",
       " 'region',\n",
       " 'country_code']"
      ]
     },
     "execution_count": 11,
     "metadata": {},
     "output_type": "execute_result"
    }
   ],
   "source": [
    "to_drop = ['uuid', 'cb_url', 'domain',\n",
    "           'homepage_url', 'logo_url', 'facebook_url', \n",
    "           'twitter_url', 'linkedin_url', 'short_description']\n",
    "\n",
    "to_keep = first_3_rows.columns.drop(to_drop).tolist()\n",
    "\n",
    "to_keep"
   ]
  },
  {
   "cell_type": "markdown",
   "id": "65beb62f-995f-4425-89b7-fdec47bafd4a",
   "metadata": {},
   "source": [
    "### 5. Load the dataset\n",
    "\n",
    "The next step is to load the dataset into a dataframe with the columns above."
   ]
  },
  {
   "cell_type": "code",
   "execution_count": 12,
   "id": "a5a7e8de-8e56-4749-8add-809435b355e5",
   "metadata": {
    "tags": []
   },
   "outputs": [
    {
     "name": "stdout",
     "output_type": "stream",
     "text": [
      "Memory usage of entire dataset in MB is: 1011.74\n"
     ]
    }
   ],
   "source": [
    "df = pd.read_csv('data/organizations.csv', usecols=to_keep)\n",
    "\n",
    "def get_mem_usage(dataframe):\n",
    "    print(f'Memory usage of entire dataset in MB is: {round(dataframe.memory_usage(deep=True).sum() / 2 ** 20, 2)}')\n",
    "    \n",
    "get_mem_usage(df)"
   ]
  },
  {
   "cell_type": "code",
   "execution_count": 13,
   "id": "a0371239-e90f-4750-be3b-a357fda3d858",
   "metadata": {
    "tags": []
   },
   "outputs": [
    {
     "name": "stdout",
     "output_type": "stream",
     "text": [
      "<class 'pandas.core.frame.DataFrame'>\n",
      "RangeIndex: 2502929 entries, 0 to 2502928\n",
      "Data columns (total 7 columns):\n",
      " #   Column                  Dtype \n",
      "---  ------                  ----- \n",
      " 0   name                    object\n",
      " 1   type                    object\n",
      " 2   primary_role            object\n",
      " 3   combined_stock_symbols  object\n",
      " 4   city                    object\n",
      " 5   region                  object\n",
      " 6   country_code            object\n",
      "dtypes: object(7)\n",
      "memory usage: 133.7+ MB\n"
     ]
    }
   ],
   "source": [
    "df.info()"
   ]
  },
  {
   "cell_type": "code",
   "execution_count": 14,
   "id": "554e328c-5f1d-4947-bca5-5ff3005c3337",
   "metadata": {
    "tags": []
   },
   "outputs": [
    {
     "data": {
      "text/plain": [
       "(2502929, 7)"
      ]
     },
     "execution_count": 14,
     "metadata": {},
     "output_type": "execute_result"
    }
   ],
   "source": [
    "df.shape"
   ]
  },
  {
   "cell_type": "code",
   "execution_count": 15,
   "id": "e8b0708e-95c3-4d6d-9569-4d4bbf0ec2f8",
   "metadata": {
    "tags": []
   },
   "outputs": [
    {
     "data": {
      "text/plain": [
       "Index(['name', 'type', 'primary_role', 'combined_stock_symbols', 'city',\n",
       "       'region', 'country_code'],\n",
       "      dtype='object')"
      ]
     },
     "execution_count": 15,
     "metadata": {},
     "output_type": "execute_result"
    }
   ],
   "source": [
    "df.columns"
   ]
  },
  {
   "cell_type": "code",
   "execution_count": 16,
   "id": "c815ed81-2017-4419-9521-54a2da973c37",
   "metadata": {
    "tags": []
   },
   "outputs": [
    {
     "data": {
      "text/html": [
       "<div>\n",
       "<style scoped>\n",
       "    .dataframe tbody tr th:only-of-type {\n",
       "        vertical-align: middle;\n",
       "    }\n",
       "\n",
       "    .dataframe tbody tr th {\n",
       "        vertical-align: top;\n",
       "    }\n",
       "\n",
       "    .dataframe thead th {\n",
       "        text-align: right;\n",
       "    }\n",
       "</style>\n",
       "<table border=\"1\" class=\"dataframe\">\n",
       "  <thead>\n",
       "    <tr style=\"text-align: right;\">\n",
       "      <th></th>\n",
       "      <th>name</th>\n",
       "      <th>type</th>\n",
       "      <th>primary_role</th>\n",
       "      <th>combined_stock_symbols</th>\n",
       "      <th>city</th>\n",
       "      <th>region</th>\n",
       "      <th>country_code</th>\n",
       "    </tr>\n",
       "  </thead>\n",
       "  <tbody>\n",
       "    <tr>\n",
       "      <th>1974942</th>\n",
       "      <td>CRYPTO</td>\n",
       "      <td>organization</td>\n",
       "      <td>company</td>\n",
       "      <td>NaN</td>\n",
       "      <td>Nancy</td>\n",
       "      <td>Lorraine</td>\n",
       "      <td>FRA</td>\n",
       "    </tr>\n",
       "    <tr>\n",
       "      <th>1334352</th>\n",
       "      <td>CASES</td>\n",
       "      <td>organization</td>\n",
       "      <td>company</td>\n",
       "      <td>NaN</td>\n",
       "      <td>New York</td>\n",
       "      <td>New York</td>\n",
       "      <td>USA</td>\n",
       "    </tr>\n",
       "    <tr>\n",
       "      <th>795271</th>\n",
       "      <td>Eugenia L Foster CPA</td>\n",
       "      <td>organization</td>\n",
       "      <td>company</td>\n",
       "      <td>NaN</td>\n",
       "      <td>Cumming</td>\n",
       "      <td>Georgia</td>\n",
       "      <td>USA</td>\n",
       "    </tr>\n",
       "    <tr>\n",
       "      <th>1357012</th>\n",
       "      <td>Express Dental Care</td>\n",
       "      <td>organization</td>\n",
       "      <td>company</td>\n",
       "      <td>NaN</td>\n",
       "      <td>Tampa</td>\n",
       "      <td>Florida</td>\n",
       "      <td>USA</td>\n",
       "    </tr>\n",
       "    <tr>\n",
       "      <th>1278318</th>\n",
       "      <td>Hartford Technologies</td>\n",
       "      <td>organization</td>\n",
       "      <td>company</td>\n",
       "      <td>NaN</td>\n",
       "      <td>Rocky Hill</td>\n",
       "      <td>Connecticut</td>\n",
       "      <td>USA</td>\n",
       "    </tr>\n",
       "  </tbody>\n",
       "</table>\n",
       "</div>"
      ],
      "text/plain": [
       "                          name          type primary_role  \\\n",
       "1974942                 CRYPTO  organization      company   \n",
       "1334352                  CASES  organization      company   \n",
       "795271    Eugenia L Foster CPA  organization      company   \n",
       "1357012    Express Dental Care  organization      company   \n",
       "1278318  Hartford Technologies  organization      company   \n",
       "\n",
       "        combined_stock_symbols        city       region country_code  \n",
       "1974942                    NaN       Nancy     Lorraine          FRA  \n",
       "1334352                    NaN    New York     New York          USA  \n",
       "795271                     NaN     Cumming      Georgia          USA  \n",
       "1357012                    NaN       Tampa      Florida          USA  \n",
       "1278318                    NaN  Rocky Hill  Connecticut          USA  "
      ]
     },
     "execution_count": 16,
     "metadata": {},
     "output_type": "execute_result"
    }
   ],
   "source": [
    "df.sample(5)"
   ]
  },
  {
   "cell_type": "markdown",
   "id": "02fe8546-56a8-4d61-b135-35b8332464b9",
   "metadata": {},
   "source": [
    "### 6. Data Wrangling\n",
    "Let's start by checking for any NaN values:"
   ]
  },
  {
   "cell_type": "code",
   "execution_count": 17,
   "id": "8e235d0b-6743-4e73-851f-2a416f4677ed",
   "metadata": {
    "tags": []
   },
   "outputs": [
    {
     "name": "stdout",
     "output_type": "stream",
     "text": [
      "False    2502927\n",
      "True           2\n",
      "Name: name, dtype: int64 \n",
      "\n",
      "False    2502929\n",
      "Name: type, dtype: int64 \n",
      "\n",
      "False    2502929\n",
      "Name: primary_role, dtype: int64 \n",
      "\n",
      "True     2456652\n",
      "False      46277\n",
      "Name: combined_stock_symbols, dtype: int64 \n",
      "\n",
      "False    2304691\n",
      "True      198238\n",
      "Name: city, dtype: int64 \n",
      "\n",
      "False    2304691\n",
      "True      198238\n",
      "Name: region, dtype: int64 \n",
      "\n",
      "False    2304691\n",
      "True      198238\n",
      "Name: country_code, dtype: int64 \n",
      "\n"
     ]
    }
   ],
   "source": [
    "for col in df.columns:\n",
    "    print(df[col].isna().value_counts(), '\\n')"
   ]
  },
  {
   "cell_type": "markdown",
   "id": "7e9b8b27-f1d0-43d3-b07e-379ea758cdda",
   "metadata": {
    "tags": []
   },
   "source": [
    "The `type`, and `primary_role` columns appear to be okay.\n",
    "\n",
    "For `name`, there are 2 `NaN` values:"
   ]
  },
  {
   "cell_type": "code",
   "execution_count": 18,
   "id": "90f86b07-3e28-4b1e-957a-15b3d04b1ad4",
   "metadata": {
    "tags": []
   },
   "outputs": [
    {
     "data": {
      "text/html": [
       "<div>\n",
       "<style scoped>\n",
       "    .dataframe tbody tr th:only-of-type {\n",
       "        vertical-align: middle;\n",
       "    }\n",
       "\n",
       "    .dataframe tbody tr th {\n",
       "        vertical-align: top;\n",
       "    }\n",
       "\n",
       "    .dataframe thead th {\n",
       "        text-align: right;\n",
       "    }\n",
       "</style>\n",
       "<table border=\"1\" class=\"dataframe\">\n",
       "  <thead>\n",
       "    <tr style=\"text-align: right;\">\n",
       "      <th></th>\n",
       "      <th>name</th>\n",
       "      <th>type</th>\n",
       "      <th>primary_role</th>\n",
       "      <th>combined_stock_symbols</th>\n",
       "      <th>city</th>\n",
       "      <th>region</th>\n",
       "      <th>country_code</th>\n",
       "    </tr>\n",
       "  </thead>\n",
       "  <tbody>\n",
       "    <tr>\n",
       "      <th>668362</th>\n",
       "      <td>NaN</td>\n",
       "      <td>organization</td>\n",
       "      <td>company</td>\n",
       "      <td>NaN</td>\n",
       "      <td>NaN</td>\n",
       "      <td>NaN</td>\n",
       "      <td>NaN</td>\n",
       "    </tr>\n",
       "    <tr>\n",
       "      <th>1127588</th>\n",
       "      <td>NaN</td>\n",
       "      <td>organization</td>\n",
       "      <td>company</td>\n",
       "      <td>NaN</td>\n",
       "      <td>New York</td>\n",
       "      <td>New York</td>\n",
       "      <td>USA</td>\n",
       "    </tr>\n",
       "  </tbody>\n",
       "</table>\n",
       "</div>"
      ],
      "text/plain": [
       "        name          type primary_role combined_stock_symbols      city  \\\n",
       "668362   NaN  organization      company                    NaN       NaN   \n",
       "1127588  NaN  organization      company                    NaN  New York   \n",
       "\n",
       "           region country_code  \n",
       "668362        NaN          NaN  \n",
       "1127588  New York          USA  "
      ]
     },
     "execution_count": 18,
     "metadata": {},
     "output_type": "execute_result"
    }
   ],
   "source": [
    "df[df['name'].isna()]"
   ]
  },
  {
   "cell_type": "markdown",
   "id": "1f6642e9-d494-43ad-9088-1332a2fcd46c",
   "metadata": {},
   "source": [
    "Their names were not entered in properly. Let's just remove them."
   ]
  },
  {
   "cell_type": "code",
   "execution_count": 19,
   "id": "30ee5134-783d-4e18-9ea2-90343c9d4ea2",
   "metadata": {
    "tags": []
   },
   "outputs": [
    {
     "name": "stdout",
     "output_type": "stream",
     "text": [
      "2,502,929 rows\n",
      "2,502,927 rows\n"
     ]
    }
   ],
   "source": [
    "print('{:,.0f}'.format(df.shape[0]), 'rows')\n",
    "df = df[df['name'].notna()]\n",
    "print('{:,.0f}'.format(df.shape[0]), 'rows')"
   ]
  },
  {
   "cell_type": "markdown",
   "id": "fe63437b-b9aa-4107-9825-af51ca6d409a",
   "metadata": {},
   "source": [
    "Next, for `combined_stock_symbols` there are 46,277 `NaN` values. Let's take a look:"
   ]
  },
  {
   "cell_type": "code",
   "execution_count": 20,
   "id": "dc8b5017-5d48-46a9-9e0f-38616f74fcec",
   "metadata": {
    "tags": []
   },
   "outputs": [
    {
     "data": {
      "text/html": [
       "<div>\n",
       "<style scoped>\n",
       "    .dataframe tbody tr th:only-of-type {\n",
       "        vertical-align: middle;\n",
       "    }\n",
       "\n",
       "    .dataframe tbody tr th {\n",
       "        vertical-align: top;\n",
       "    }\n",
       "\n",
       "    .dataframe thead th {\n",
       "        text-align: right;\n",
       "    }\n",
       "</style>\n",
       "<table border=\"1\" class=\"dataframe\">\n",
       "  <thead>\n",
       "    <tr style=\"text-align: right;\">\n",
       "      <th></th>\n",
       "      <th>name</th>\n",
       "      <th>type</th>\n",
       "      <th>primary_role</th>\n",
       "      <th>combined_stock_symbols</th>\n",
       "      <th>city</th>\n",
       "      <th>region</th>\n",
       "      <th>country_code</th>\n",
       "    </tr>\n",
       "  </thead>\n",
       "  <tbody>\n",
       "    <tr>\n",
       "      <th>0</th>\n",
       "      <td>Wetpaint</td>\n",
       "      <td>organization</td>\n",
       "      <td>company</td>\n",
       "      <td>NaN</td>\n",
       "      <td>New York</td>\n",
       "      <td>New York</td>\n",
       "      <td>USA</td>\n",
       "    </tr>\n",
       "    <tr>\n",
       "      <th>1</th>\n",
       "      <td>Zoho</td>\n",
       "      <td>organization</td>\n",
       "      <td>company</td>\n",
       "      <td>NaN</td>\n",
       "      <td>Pleasanton</td>\n",
       "      <td>California</td>\n",
       "      <td>USA</td>\n",
       "    </tr>\n",
       "    <tr>\n",
       "      <th>2</th>\n",
       "      <td>Digg</td>\n",
       "      <td>organization</td>\n",
       "      <td>company</td>\n",
       "      <td>NaN</td>\n",
       "      <td>New York</td>\n",
       "      <td>New York</td>\n",
       "      <td>USA</td>\n",
       "    </tr>\n",
       "    <tr>\n",
       "      <th>3</th>\n",
       "      <td>Omidyar Network</td>\n",
       "      <td>organization</td>\n",
       "      <td>investor</td>\n",
       "      <td>NaN</td>\n",
       "      <td>Redwood City</td>\n",
       "      <td>California</td>\n",
       "      <td>USA</td>\n",
       "    </tr>\n",
       "    <tr>\n",
       "      <th>5</th>\n",
       "      <td>Trinity Ventures</td>\n",
       "      <td>organization</td>\n",
       "      <td>investor</td>\n",
       "      <td>NaN</td>\n",
       "      <td>Menlo Park</td>\n",
       "      <td>California</td>\n",
       "      <td>USA</td>\n",
       "    </tr>\n",
       "  </tbody>\n",
       "</table>\n",
       "</div>"
      ],
      "text/plain": [
       "               name          type primary_role combined_stock_symbols  \\\n",
       "0          Wetpaint  organization      company                    NaN   \n",
       "1              Zoho  organization      company                    NaN   \n",
       "2              Digg  organization      company                    NaN   \n",
       "3   Omidyar Network  organization     investor                    NaN   \n",
       "5  Trinity Ventures  organization     investor                    NaN   \n",
       "\n",
       "           city      region country_code  \n",
       "0      New York    New York          USA  \n",
       "1    Pleasanton  California          USA  \n",
       "2      New York    New York          USA  \n",
       "3  Redwood City  California          USA  \n",
       "5    Menlo Park  California          USA  "
      ]
     },
     "execution_count": 20,
     "metadata": {},
     "output_type": "execute_result"
    }
   ],
   "source": [
    "df[df['combined_stock_symbols'].isna()].head()"
   ]
  },
  {
   "cell_type": "code",
   "execution_count": 21,
   "id": "6ace170c-7e5d-4aac-a67f-c4d11032bb2a",
   "metadata": {
    "tags": []
   },
   "outputs": [
    {
     "data": {
      "text/html": [
       "<div>\n",
       "<style scoped>\n",
       "    .dataframe tbody tr th:only-of-type {\n",
       "        vertical-align: middle;\n",
       "    }\n",
       "\n",
       "    .dataframe tbody tr th {\n",
       "        vertical-align: top;\n",
       "    }\n",
       "\n",
       "    .dataframe thead th {\n",
       "        text-align: right;\n",
       "    }\n",
       "</style>\n",
       "<table border=\"1\" class=\"dataframe\">\n",
       "  <thead>\n",
       "    <tr style=\"text-align: right;\">\n",
       "      <th></th>\n",
       "      <th>name</th>\n",
       "      <th>type</th>\n",
       "      <th>primary_role</th>\n",
       "      <th>combined_stock_symbols</th>\n",
       "      <th>city</th>\n",
       "      <th>region</th>\n",
       "      <th>country_code</th>\n",
       "    </tr>\n",
       "  </thead>\n",
       "  <tbody>\n",
       "    <tr>\n",
       "      <th>4</th>\n",
       "      <td>Meta</td>\n",
       "      <td>organization</td>\n",
       "      <td>company</td>\n",
       "      <td>nasdaq:META</td>\n",
       "      <td>Menlo Park</td>\n",
       "      <td>California</td>\n",
       "      <td>USA</td>\n",
       "    </tr>\n",
       "    <tr>\n",
       "      <th>12</th>\n",
       "      <td>Twitter</td>\n",
       "      <td>organization</td>\n",
       "      <td>company</td>\n",
       "      <td>nyse:TWTR</td>\n",
       "      <td>San Francisco</td>\n",
       "      <td>California</td>\n",
       "      <td>USA</td>\n",
       "    </tr>\n",
       "    <tr>\n",
       "      <th>24</th>\n",
       "      <td>eBay</td>\n",
       "      <td>organization</td>\n",
       "      <td>company</td>\n",
       "      <td>nasdaq:EBAY</td>\n",
       "      <td>San Jose</td>\n",
       "      <td>California</td>\n",
       "      <td>USA</td>\n",
       "    </tr>\n",
       "    <tr>\n",
       "      <th>30</th>\n",
       "      <td>Hutchison Whampoa</td>\n",
       "      <td>organization</td>\n",
       "      <td>investor</td>\n",
       "      <td>hkg:0013</td>\n",
       "      <td>Hong Kong</td>\n",
       "      <td>Hong Kong Island</td>\n",
       "      <td>HKG</td>\n",
       "    </tr>\n",
       "    <tr>\n",
       "      <th>34</th>\n",
       "      <td>VIACOM PARAMOUNT on contract at CBS PARAMOUNT+</td>\n",
       "      <td>organization</td>\n",
       "      <td>company</td>\n",
       "      <td>nasdaq:VIAB</td>\n",
       "      <td>New York</td>\n",
       "      <td>New York</td>\n",
       "      <td>USA</td>\n",
       "    </tr>\n",
       "  </tbody>\n",
       "</table>\n",
       "</div>"
      ],
      "text/plain": [
       "                                              name          type primary_role  \\\n",
       "4                                             Meta  organization      company   \n",
       "12                                         Twitter  organization      company   \n",
       "24                                            eBay  organization      company   \n",
       "30                               Hutchison Whampoa  organization     investor   \n",
       "34  VIACOM PARAMOUNT on contract at CBS PARAMOUNT+  organization      company   \n",
       "\n",
       "   combined_stock_symbols           city            region country_code  \n",
       "4             nasdaq:META     Menlo Park        California          USA  \n",
       "12              nyse:TWTR  San Francisco        California          USA  \n",
       "24            nasdaq:EBAY       San Jose        California          USA  \n",
       "30               hkg:0013      Hong Kong  Hong Kong Island          HKG  \n",
       "34            nasdaq:VIAB       New York          New York          USA  "
      ]
     },
     "execution_count": 21,
     "metadata": {},
     "output_type": "execute_result"
    }
   ],
   "source": [
    "df[df['combined_stock_symbols'].notna()].head()"
   ]
  },
  {
   "cell_type": "markdown",
   "id": "97b7596a-8fd8-4689-abd3-2f3fb86fe341",
   "metadata": {},
   "source": [
    "This makes sense, as the `combined_stock_symbols` value indicates whether the organization is listed in a stock exchange, i.e. public vs. private (`NaN` = private).\n",
    "\n",
    "We may want to keep note of this to serve as another data point, at least for organizations in the U.S.\n",
    "\n",
    "For `city`, `region`, and `country_code`, about **7.9%** of the values for each are `NaN` (198,238 / 2,502,927). Let's check it out:"
   ]
  },
  {
   "cell_type": "code",
   "execution_count": 22,
   "id": "4087790f-30fc-496d-a9cc-bcfc4b945d1d",
   "metadata": {
    "tags": []
   },
   "outputs": [
    {
     "data": {
      "text/html": [
       "<div>\n",
       "<style scoped>\n",
       "    .dataframe tbody tr th:only-of-type {\n",
       "        vertical-align: middle;\n",
       "    }\n",
       "\n",
       "    .dataframe tbody tr th {\n",
       "        vertical-align: top;\n",
       "    }\n",
       "\n",
       "    .dataframe thead th {\n",
       "        text-align: right;\n",
       "    }\n",
       "</style>\n",
       "<table border=\"1\" class=\"dataframe\">\n",
       "  <thead>\n",
       "    <tr style=\"text-align: right;\">\n",
       "      <th></th>\n",
       "      <th>name</th>\n",
       "      <th>type</th>\n",
       "      <th>primary_role</th>\n",
       "      <th>combined_stock_symbols</th>\n",
       "      <th>city</th>\n",
       "      <th>region</th>\n",
       "      <th>country_code</th>\n",
       "    </tr>\n",
       "  </thead>\n",
       "  <tbody>\n",
       "    <tr>\n",
       "      <th>623779</th>\n",
       "      <td>Foot and Skin Traction Kit Manufacturers Suppl...</td>\n",
       "      <td>organization</td>\n",
       "      <td>company</td>\n",
       "      <td>NaN</td>\n",
       "      <td>NaN</td>\n",
       "      <td>NaN</td>\n",
       "      <td>NaN</td>\n",
       "    </tr>\n",
       "    <tr>\n",
       "      <th>647689</th>\n",
       "      <td>Bin mk</td>\n",
       "      <td>organization</td>\n",
       "      <td>company</td>\n",
       "      <td>NaN</td>\n",
       "      <td>NaN</td>\n",
       "      <td>NaN</td>\n",
       "      <td>NaN</td>\n",
       "    </tr>\n",
       "    <tr>\n",
       "      <th>685247</th>\n",
       "      <td>Studio WTF</td>\n",
       "      <td>organization</td>\n",
       "      <td>company</td>\n",
       "      <td>NaN</td>\n",
       "      <td>NaN</td>\n",
       "      <td>NaN</td>\n",
       "      <td>NaN</td>\n",
       "    </tr>\n",
       "    <tr>\n",
       "      <th>1392278</th>\n",
       "      <td>Cloud Perspectives</td>\n",
       "      <td>organization</td>\n",
       "      <td>company</td>\n",
       "      <td>NaN</td>\n",
       "      <td>NaN</td>\n",
       "      <td>NaN</td>\n",
       "      <td>NaN</td>\n",
       "    </tr>\n",
       "    <tr>\n",
       "      <th>1182437</th>\n",
       "      <td>Nederland Jewelers</td>\n",
       "      <td>organization</td>\n",
       "      <td>company</td>\n",
       "      <td>NaN</td>\n",
       "      <td>NaN</td>\n",
       "      <td>NaN</td>\n",
       "      <td>NaN</td>\n",
       "    </tr>\n",
       "  </tbody>\n",
       "</table>\n",
       "</div>"
      ],
      "text/plain": [
       "                                                      name          type  \\\n",
       "623779   Foot and Skin Traction Kit Manufacturers Suppl...  organization   \n",
       "647689                                              Bin mk  organization   \n",
       "685247                                          Studio WTF  organization   \n",
       "1392278                                 Cloud Perspectives  organization   \n",
       "1182437                                 Nederland Jewelers  organization   \n",
       "\n",
       "        primary_role combined_stock_symbols city region country_code  \n",
       "623779       company                    NaN  NaN    NaN          NaN  \n",
       "647689       company                    NaN  NaN    NaN          NaN  \n",
       "685247       company                    NaN  NaN    NaN          NaN  \n",
       "1392278      company                    NaN  NaN    NaN          NaN  \n",
       "1182437      company                    NaN  NaN    NaN          NaN  "
      ]
     },
     "execution_count": 22,
     "metadata": {},
     "output_type": "execute_result"
    }
   ],
   "source": [
    "df[df['country_code'].isna()].sample(5)"
   ]
  },
  {
   "cell_type": "markdown",
   "id": "f1fd8001-629e-40b6-9fb9-a4745332370c",
   "metadata": {},
   "source": [
    "There is no geo data for those 198,238 rows. Let's just drop them:"
   ]
  },
  {
   "cell_type": "code",
   "execution_count": 23,
   "id": "e775e8d7-acdc-4f78-a5d9-74856a22077b",
   "metadata": {
    "tags": []
   },
   "outputs": [
    {
     "name": "stdout",
     "output_type": "stream",
     "text": [
      "2,502,927 rows\n",
      "2,304,690 rows\n"
     ]
    }
   ],
   "source": [
    "print('{:,.0f}'.format(df.shape[0]), 'rows')\n",
    "df = df[df['country_code'].notna()]\n",
    "print('{:,.0f}'.format(df.shape[0]), 'rows')"
   ]
  },
  {
   "cell_type": "code",
   "execution_count": 24,
   "id": "758f9432-52c1-4834-a184-ea515f5a71bd",
   "metadata": {
    "tags": []
   },
   "outputs": [
    {
     "data": {
      "text/plain": [
       "0"
      ]
     },
     "execution_count": 24,
     "metadata": {},
     "output_type": "execute_result"
    }
   ],
   "source": [
    "df[df['country_code'].isna()].shape[0]"
   ]
  },
  {
   "cell_type": "markdown",
   "id": "042f0a22-a87d-42a6-8c8f-d94b62cf8ef6",
   "metadata": {},
   "source": [
    "`organization` appears to be the only value for the `type` column:"
   ]
  },
  {
   "cell_type": "code",
   "execution_count": 25,
   "id": "7bfac2e0-b0b6-475c-9d4b-4528aa1dfa4b",
   "metadata": {
    "tags": []
   },
   "outputs": [
    {
     "data": {
      "text/plain": [
       "organization    2304690\n",
       "Name: type, dtype: int64"
      ]
     },
     "execution_count": 25,
     "metadata": {},
     "output_type": "execute_result"
    }
   ],
   "source": [
    "df.type.value_counts()"
   ]
  },
  {
   "cell_type": "markdown",
   "id": "37bf35fc-be1f-4abf-aa0f-936dee9b8f06",
   "metadata": {},
   "source": [
    "For `primary_role`, let's only look at `company` and drop `investor` and `school`:"
   ]
  },
  {
   "cell_type": "code",
   "execution_count": 26,
   "id": "fa48f39d-c8ae-4ae7-bd03-ace8f0cb4f27",
   "metadata": {
    "tags": []
   },
   "outputs": [
    {
     "data": {
      "text/plain": [
       "company     2279966\n",
       "investor      23658\n",
       "school         1066\n",
       "Name: primary_role, dtype: int64"
      ]
     },
     "execution_count": 26,
     "metadata": {},
     "output_type": "execute_result"
    }
   ],
   "source": [
    "df.primary_role.value_counts()"
   ]
  },
  {
   "cell_type": "code",
   "execution_count": 27,
   "id": "e7f35c97-ac54-47b4-b5a8-b7860d6048fd",
   "metadata": {
    "tags": []
   },
   "outputs": [
    {
     "name": "stdout",
     "output_type": "stream",
     "text": [
      "2,279,966 rows\n"
     ]
    }
   ],
   "source": [
    "df.query('primary_role == \"company\"', inplace=True)\n",
    "print('{:,.0f}'.format(df.shape[0]), 'rows')"
   ]
  },
  {
   "cell_type": "markdown",
   "id": "063bf343-1805-421e-826d-f4ed5ac1f425",
   "metadata": {},
   "source": [
    "Let's convert the 'dtype' for all columns except 'name' and 'combined_stock_symbols' to `category` to bring down the memory usage:"
   ]
  },
  {
   "cell_type": "code",
   "execution_count": 28,
   "id": "223c8d6a-736b-4a60-9d7b-1cca7e4ed405",
   "metadata": {
    "tags": []
   },
   "outputs": [],
   "source": [
    "for col in ['type', 'primary_role', 'city', 'region', 'country_code']:\n",
    "    df[col] = df[col].astype('category')"
   ]
  },
  {
   "cell_type": "code",
   "execution_count": 29,
   "id": "7d82cb7a-595f-44e9-ad92-38ca410debc2",
   "metadata": {
    "tags": []
   },
   "outputs": [
    {
     "name": "stdout",
     "output_type": "stream",
     "text": [
      "Memory usage of entire dataset in MB is: 275.42\n"
     ]
    }
   ],
   "source": [
    "get_mem_usage(df)"
   ]
  },
  {
   "cell_type": "code",
   "execution_count": 30,
   "id": "27bfb790-478a-43aa-bf98-86401e43f9ba",
   "metadata": {
    "tags": []
   },
   "outputs": [
    {
     "name": "stdout",
     "output_type": "stream",
     "text": [
      "<class 'pandas.core.frame.DataFrame'>\n",
      "Int64Index: 2279966 entries, 0 to 2502928\n",
      "Data columns (total 7 columns):\n",
      " #   Column                  Dtype   \n",
      "---  ------                  -----   \n",
      " 0   name                    object  \n",
      " 1   type                    category\n",
      " 2   primary_role            category\n",
      " 3   combined_stock_symbols  object  \n",
      " 4   city                    category\n",
      " 5   region                  category\n",
      " 6   country_code            category\n",
      "dtypes: category(5), object(2)\n",
      "memory usage: 76.5+ MB\n"
     ]
    }
   ],
   "source": [
    "df.info()"
   ]
  },
  {
   "cell_type": "code",
   "execution_count": 31,
   "id": "6681f989-859e-4676-b9e8-697cce64ef44",
   "metadata": {
    "tags": []
   },
   "outputs": [
    {
     "data": {
      "text/html": [
       "<div>\n",
       "<style scoped>\n",
       "    .dataframe tbody tr th:only-of-type {\n",
       "        vertical-align: middle;\n",
       "    }\n",
       "\n",
       "    .dataframe tbody tr th {\n",
       "        vertical-align: top;\n",
       "    }\n",
       "\n",
       "    .dataframe thead th {\n",
       "        text-align: right;\n",
       "    }\n",
       "</style>\n",
       "<table border=\"1\" class=\"dataframe\">\n",
       "  <thead>\n",
       "    <tr style=\"text-align: right;\">\n",
       "      <th></th>\n",
       "      <th>name</th>\n",
       "      <th>type</th>\n",
       "      <th>primary_role</th>\n",
       "      <th>combined_stock_symbols</th>\n",
       "      <th>city</th>\n",
       "      <th>region</th>\n",
       "      <th>country_code</th>\n",
       "    </tr>\n",
       "  </thead>\n",
       "  <tbody>\n",
       "    <tr>\n",
       "      <th>1292146</th>\n",
       "      <td>Sayle Sandifer &amp; Associates</td>\n",
       "      <td>organization</td>\n",
       "      <td>company</td>\n",
       "      <td>NaN</td>\n",
       "      <td>Greenville</td>\n",
       "      <td>Mississippi</td>\n",
       "      <td>USA</td>\n",
       "    </tr>\n",
       "    <tr>\n",
       "      <th>803067</th>\n",
       "      <td>Rapid Learning Institute</td>\n",
       "      <td>organization</td>\n",
       "      <td>company</td>\n",
       "      <td>NaN</td>\n",
       "      <td>Wayne</td>\n",
       "      <td>Pennsylvania</td>\n",
       "      <td>USA</td>\n",
       "    </tr>\n",
       "    <tr>\n",
       "      <th>537981</th>\n",
       "      <td>Beacontron</td>\n",
       "      <td>organization</td>\n",
       "      <td>company</td>\n",
       "      <td>NaN</td>\n",
       "      <td>Oakville</td>\n",
       "      <td>Ontario</td>\n",
       "      <td>CAN</td>\n",
       "    </tr>\n",
       "    <tr>\n",
       "      <th>1439022</th>\n",
       "      <td>Battery Electric</td>\n",
       "      <td>organization</td>\n",
       "      <td>company</td>\n",
       "      <td>NaN</td>\n",
       "      <td>Edmonton</td>\n",
       "      <td>Alberta</td>\n",
       "      <td>CAN</td>\n",
       "    </tr>\n",
       "    <tr>\n",
       "      <th>38804</th>\n",
       "      <td>Infinite Designs</td>\n",
       "      <td>organization</td>\n",
       "      <td>company</td>\n",
       "      <td>NaN</td>\n",
       "      <td>Atlanta</td>\n",
       "      <td>Georgia</td>\n",
       "      <td>USA</td>\n",
       "    </tr>\n",
       "  </tbody>\n",
       "</table>\n",
       "</div>"
      ],
      "text/plain": [
       "                                name          type primary_role  \\\n",
       "1292146  Sayle Sandifer & Associates  organization      company   \n",
       "803067      Rapid Learning Institute  organization      company   \n",
       "537981                    Beacontron  organization      company   \n",
       "1439022             Battery Electric  organization      company   \n",
       "38804               Infinite Designs  organization      company   \n",
       "\n",
       "        combined_stock_symbols        city        region country_code  \n",
       "1292146                    NaN  Greenville   Mississippi          USA  \n",
       "803067                     NaN       Wayne  Pennsylvania          USA  \n",
       "537981                     NaN    Oakville       Ontario          CAN  \n",
       "1439022                    NaN    Edmonton       Alberta          CAN  \n",
       "38804                      NaN     Atlanta       Georgia          USA  "
      ]
     },
     "execution_count": 31,
     "metadata": {},
     "output_type": "execute_result"
    }
   ],
   "source": [
    "df.sample(5)"
   ]
  },
  {
   "cell_type": "markdown",
   "id": "add5c582-6e29-4da1-9ad2-a802e11099e4",
   "metadata": {},
   "source": [
    "### 7. Analyze the dataset\n",
    "Now that we have the dataframe initialized, let's explore it.\n",
    "\n",
    "#### 7.1 What is the total number of countries?"
   ]
  },
  {
   "cell_type": "code",
   "execution_count": 32,
   "id": "8c71ec52-5d13-4a77-9124-bed7f556b892",
   "metadata": {
    "tags": []
   },
   "outputs": [
    {
     "data": {
      "text/plain": [
       "223"
      ]
     },
     "execution_count": 32,
     "metadata": {},
     "output_type": "execute_result"
    }
   ],
   "source": [
    "len(df.country_code.unique())"
   ]
  },
  {
   "cell_type": "markdown",
   "id": "cd1f8ac5-8e8d-4d61-93c9-30746be48499",
   "metadata": {
    "tags": []
   },
   "source": [
    "#### 7.2 What is the total number of regions?"
   ]
  },
  {
   "cell_type": "code",
   "execution_count": 33,
   "id": "0355200a-3917-4e22-bf18-16e6367a1a8f",
   "metadata": {
    "tags": []
   },
   "outputs": [
    {
     "data": {
      "text/plain": [
       "2311"
      ]
     },
     "execution_count": 33,
     "metadata": {},
     "output_type": "execute_result"
    }
   ],
   "source": [
    "len(df.region.unique())"
   ]
  },
  {
   "cell_type": "markdown",
   "id": "241b8eaf-9712-42b9-ab70-c4fb3063d3d2",
   "metadata": {},
   "source": [
    "#### 7.3 What is the total number of cities?"
   ]
  },
  {
   "cell_type": "code",
   "execution_count": 34,
   "id": "ed47b9b8-a284-426d-b798-ea5aeea22e04",
   "metadata": {
    "tags": []
   },
   "outputs": [
    {
     "data": {
      "text/plain": [
       "61079"
      ]
     },
     "execution_count": 34,
     "metadata": {},
     "output_type": "execute_result"
    }
   ],
   "source": [
    "len(df.city.unique())"
   ]
  },
  {
   "cell_type": "markdown",
   "id": "e15f7c87-8f9d-4ac0-88a4-29e889616e8d",
   "metadata": {},
   "source": [
    "This sounds misleading, as some city names may be repeated, i.e. the same city name may be in multiple regions. Let's try and find some examples:"
   ]
  },
  {
   "cell_type": "code",
   "execution_count": 35,
   "id": "44ad7b82-7b5a-431c-ad19-d898d221e74a",
   "metadata": {
    "tags": []
   },
   "outputs": [
    {
     "data": {
      "text/plain": [
       "Clinton       24\n",
       "Madison       23\n",
       "Franklin      21\n",
       "Washington    21\n",
       "Jackson       20\n",
       "Name: city, dtype: int64"
      ]
     },
     "execution_count": 35,
     "metadata": {},
     "output_type": "execute_result"
    }
   ],
   "source": [
    "# USA\n",
    "df[['city', 'region', 'country_code']] \\\n",
    "    .query('country_code==\"USA\"') \\\n",
    "    .value_counts() \\\n",
    "    .to_frame(name='count') \\\n",
    "    .reset_index()['city'] \\\n",
    "    .value_counts().head(5)"
   ]
  },
  {
   "cell_type": "markdown",
   "id": "70f14f2b-e2ea-4bf7-9d88-101099efd60a",
   "metadata": {},
   "source": [
    "Let's take `Clinton` as an example:"
   ]
  },
  {
   "cell_type": "code",
   "execution_count": 36,
   "id": "b1a0dbe5-5548-43ea-849a-a90d146a09a9",
   "metadata": {
    "tags": []
   },
   "outputs": [
    {
     "data": {
      "text/html": [
       "<div>\n",
       "<style scoped>\n",
       "    .dataframe tbody tr th:only-of-type {\n",
       "        vertical-align: middle;\n",
       "    }\n",
       "\n",
       "    .dataframe tbody tr th {\n",
       "        vertical-align: top;\n",
       "    }\n",
       "\n",
       "    .dataframe thead th {\n",
       "        text-align: right;\n",
       "    }\n",
       "</style>\n",
       "<table border=\"1\" class=\"dataframe\">\n",
       "  <thead>\n",
       "    <tr style=\"text-align: right;\">\n",
       "      <th></th>\n",
       "      <th>city</th>\n",
       "      <th>region</th>\n",
       "      <th>country_code</th>\n",
       "      <th>count</th>\n",
       "    </tr>\n",
       "  </thead>\n",
       "  <tbody>\n",
       "    <tr>\n",
       "      <th>20</th>\n",
       "      <td>Clinton</td>\n",
       "      <td>Arkansas</td>\n",
       "      <td>USA</td>\n",
       "      <td>5</td>\n",
       "    </tr>\n",
       "    <tr>\n",
       "      <th>7</th>\n",
       "      <td>Clinton</td>\n",
       "      <td>Connecticut</td>\n",
       "      <td>USA</td>\n",
       "      <td>22</td>\n",
       "    </tr>\n",
       "    <tr>\n",
       "      <th>12</th>\n",
       "      <td>Clinton</td>\n",
       "      <td>Illinois</td>\n",
       "      <td>USA</td>\n",
       "      <td>12</td>\n",
       "    </tr>\n",
       "    <tr>\n",
       "      <th>16</th>\n",
       "      <td>Clinton</td>\n",
       "      <td>Indiana</td>\n",
       "      <td>USA</td>\n",
       "      <td>8</td>\n",
       "    </tr>\n",
       "    <tr>\n",
       "      <th>3</th>\n",
       "      <td>Clinton</td>\n",
       "      <td>Iowa</td>\n",
       "      <td>USA</td>\n",
       "      <td>39</td>\n",
       "    </tr>\n",
       "    <tr>\n",
       "      <th>23</th>\n",
       "      <td>Clinton</td>\n",
       "      <td>Kentucky</td>\n",
       "      <td>USA</td>\n",
       "      <td>2</td>\n",
       "    </tr>\n",
       "    <tr>\n",
       "      <th>22</th>\n",
       "      <td>Clinton</td>\n",
       "      <td>Louisiana</td>\n",
       "      <td>USA</td>\n",
       "      <td>3</td>\n",
       "    </tr>\n",
       "    <tr>\n",
       "      <th>24</th>\n",
       "      <td>Clinton</td>\n",
       "      <td>Maine</td>\n",
       "      <td>USA</td>\n",
       "      <td>1</td>\n",
       "    </tr>\n",
       "    <tr>\n",
       "      <th>0</th>\n",
       "      <td>Clinton</td>\n",
       "      <td>Maryland</td>\n",
       "      <td>USA</td>\n",
       "      <td>72</td>\n",
       "    </tr>\n",
       "    <tr>\n",
       "      <th>10</th>\n",
       "      <td>Clinton</td>\n",
       "      <td>Massachusetts</td>\n",
       "      <td>USA</td>\n",
       "      <td>15</td>\n",
       "    </tr>\n",
       "    <tr>\n",
       "      <th>4</th>\n",
       "      <td>Clinton</td>\n",
       "      <td>Michigan</td>\n",
       "      <td>USA</td>\n",
       "      <td>31</td>\n",
       "    </tr>\n",
       "    <tr>\n",
       "      <th>2</th>\n",
       "      <td>Clinton</td>\n",
       "      <td>Mississippi</td>\n",
       "      <td>USA</td>\n",
       "      <td>45</td>\n",
       "    </tr>\n",
       "    <tr>\n",
       "      <th>9</th>\n",
       "      <td>Clinton</td>\n",
       "      <td>Missouri</td>\n",
       "      <td>USA</td>\n",
       "      <td>21</td>\n",
       "    </tr>\n",
       "    <tr>\n",
       "      <th>18</th>\n",
       "      <td>Clinton</td>\n",
       "      <td>Montana</td>\n",
       "      <td>USA</td>\n",
       "      <td>6</td>\n",
       "    </tr>\n",
       "    <tr>\n",
       "      <th>1</th>\n",
       "      <td>Clinton</td>\n",
       "      <td>New Jersey</td>\n",
       "      <td>USA</td>\n",
       "      <td>48</td>\n",
       "    </tr>\n",
       "    <tr>\n",
       "      <th>8</th>\n",
       "      <td>Clinton</td>\n",
       "      <td>New York</td>\n",
       "      <td>USA</td>\n",
       "      <td>22</td>\n",
       "    </tr>\n",
       "    <tr>\n",
       "      <th>5</th>\n",
       "      <td>Clinton</td>\n",
       "      <td>North Carolina</td>\n",
       "      <td>USA</td>\n",
       "      <td>28</td>\n",
       "    </tr>\n",
       "    <tr>\n",
       "      <th>19</th>\n",
       "      <td>Clinton</td>\n",
       "      <td>Ohio</td>\n",
       "      <td>USA</td>\n",
       "      <td>5</td>\n",
       "    </tr>\n",
       "    <tr>\n",
       "      <th>11</th>\n",
       "      <td>Clinton</td>\n",
       "      <td>Oklahoma</td>\n",
       "      <td>USA</td>\n",
       "      <td>13</td>\n",
       "    </tr>\n",
       "    <tr>\n",
       "      <th>21</th>\n",
       "      <td>Clinton</td>\n",
       "      <td>Ontario</td>\n",
       "      <td>CAN</td>\n",
       "      <td>4</td>\n",
       "    </tr>\n",
       "    <tr>\n",
       "      <th>15</th>\n",
       "      <td>Clinton</td>\n",
       "      <td>Pennsylvania</td>\n",
       "      <td>USA</td>\n",
       "      <td>9</td>\n",
       "    </tr>\n",
       "    <tr>\n",
       "      <th>13</th>\n",
       "      <td>Clinton</td>\n",
       "      <td>South Carolina</td>\n",
       "      <td>USA</td>\n",
       "      <td>10</td>\n",
       "    </tr>\n",
       "    <tr>\n",
       "      <th>6</th>\n",
       "      <td>Clinton</td>\n",
       "      <td>Tennessee</td>\n",
       "      <td>USA</td>\n",
       "      <td>23</td>\n",
       "    </tr>\n",
       "    <tr>\n",
       "      <th>14</th>\n",
       "      <td>Clinton</td>\n",
       "      <td>Washington</td>\n",
       "      <td>USA</td>\n",
       "      <td>10</td>\n",
       "    </tr>\n",
       "    <tr>\n",
       "      <th>17</th>\n",
       "      <td>Clinton</td>\n",
       "      <td>Wisconsin</td>\n",
       "      <td>USA</td>\n",
       "      <td>6</td>\n",
       "    </tr>\n",
       "  </tbody>\n",
       "</table>\n",
       "</div>"
      ],
      "text/plain": [
       "       city          region country_code  count\n",
       "20  Clinton        Arkansas          USA      5\n",
       "7   Clinton     Connecticut          USA     22\n",
       "12  Clinton        Illinois          USA     12\n",
       "16  Clinton         Indiana          USA      8\n",
       "3   Clinton            Iowa          USA     39\n",
       "23  Clinton        Kentucky          USA      2\n",
       "22  Clinton       Louisiana          USA      3\n",
       "24  Clinton           Maine          USA      1\n",
       "0   Clinton        Maryland          USA     72\n",
       "10  Clinton   Massachusetts          USA     15\n",
       "4   Clinton        Michigan          USA     31\n",
       "2   Clinton     Mississippi          USA     45\n",
       "9   Clinton        Missouri          USA     21\n",
       "18  Clinton         Montana          USA      6\n",
       "1   Clinton      New Jersey          USA     48\n",
       "8   Clinton        New York          USA     22\n",
       "5   Clinton  North Carolina          USA     28\n",
       "19  Clinton            Ohio          USA      5\n",
       "11  Clinton        Oklahoma          USA     13\n",
       "21  Clinton         Ontario          CAN      4\n",
       "15  Clinton    Pennsylvania          USA      9\n",
       "13  Clinton  South Carolina          USA     10\n",
       "6   Clinton       Tennessee          USA     23\n",
       "14  Clinton      Washington          USA     10\n",
       "17  Clinton       Wisconsin          USA      6"
      ]
     },
     "execution_count": 36,
     "metadata": {},
     "output_type": "execute_result"
    }
   ],
   "source": [
    "df.query('(city in [\"Clinton\"])')[['city', 'region', 'country_code']] \\\n",
    "    .value_counts() \\\n",
    "    .to_frame(name='count') \\\n",
    "    .reset_index() \\\n",
    "    .sort_values(['city', 'region']) \\\n",
    "    .head(50)"
   ]
  },
  {
   "cell_type": "markdown",
   "id": "02c0ac85-6e90-4fcf-8aff-c54cada9fcf5",
   "metadata": {
    "tags": []
   },
   "source": [
    "The city `Clinton` is a city name in 25 different regions. The total number of cities should be more than the `61,079` we calculated previously. Let's try calculating it again:"
   ]
  },
  {
   "cell_type": "code",
   "execution_count": 37,
   "id": "1a47a3a4-5583-41f7-ab40-5e622081180b",
   "metadata": {
    "tags": []
   },
   "outputs": [
    {
     "data": {
      "text/plain": [
       "61079"
      ]
     },
     "execution_count": 37,
     "metadata": {},
     "output_type": "execute_result"
    }
   ],
   "source": [
    "# incorrect\n",
    "len(df.city.unique())"
   ]
  },
  {
   "cell_type": "code",
   "execution_count": 38,
   "id": "ba6bd7fc-9709-49ee-861e-da1b6b42b175",
   "metadata": {
    "tags": []
   },
   "outputs": [
    {
     "data": {
      "text/plain": [
       "city                 region                country_code\n",
       "London               England               GBR             53904\n",
       "New York             New York              USA             49347\n",
       "San Francisco        California            USA             26597\n",
       "Los Angeles          California            USA             20634\n",
       "Tokyo                Tokyo                 JPN             19412\n",
       "                                                           ...  \n",
       "Rex                  Georgia               USA                 1\n",
       "La Cure              Geneve                CHE                 1\n",
       "La Dehesa            Region Metropolitana  CHL                 1\n",
       "Revúca               Banska Bystrica       SVK                 1\n",
       "Nowogródek Pomorski  Zachodniopomorskie    POL                 1\n",
       "Length: 72876, dtype: int64"
      ]
     },
     "execution_count": 38,
     "metadata": {},
     "output_type": "execute_result"
    }
   ],
   "source": [
    "df[['city', 'region', 'country_code']].value_counts()"
   ]
  },
  {
   "cell_type": "markdown",
   "id": "26f0cf49-d0ad-4a65-b8be-01553b4f2b57",
   "metadata": {},
   "source": [
    "The total number of cities is **72,876**."
   ]
  },
  {
   "cell_type": "markdown",
   "id": "f28e77d1-1c2a-4396-816f-ce5becc95d15",
   "metadata": {},
   "source": [
    "#### 7.4 What percentage of the total companies are in the U.S.?"
   ]
  },
  {
   "cell_type": "code",
   "execution_count": 39,
   "id": "09b56b78-912a-44ed-bd56-224e2d73c550",
   "metadata": {
    "tags": []
   },
   "outputs": [
    {
     "data": {
      "text/plain": [
       "country_code\n",
       "USA             1130976\n",
       "GBR              173206\n",
       "IND               86203\n",
       "DEU               80353\n",
       "CAN               75397\n",
       "                 ...   \n",
       "GNB                   2\n",
       "TUV                   1\n",
       "FLK                   1\n",
       "FSM                   1\n",
       "IOT                   1\n",
       "Length: 223, dtype: int64"
      ]
     },
     "execution_count": 39,
     "metadata": {},
     "output_type": "execute_result"
    }
   ],
   "source": [
    "df[['country_code']].value_counts()"
   ]
  },
  {
   "cell_type": "code",
   "execution_count": 40,
   "id": "487ad9c6-1544-4f70-9f94-4f290292a80b",
   "metadata": {
    "tags": []
   },
   "outputs": [
    {
     "name": "stdout",
     "output_type": "stream",
     "text": [
      "49.60%\n"
     ]
    }
   ],
   "source": [
    "print( '{0:.2f}%'.format( df.query('country_code==\"USA\"').shape[0] / df[['country_code']].value_counts().sum() * 100 ) )"
   ]
  },
  {
   "cell_type": "markdown",
   "id": "ee3f267c-c473-4d58-8cac-9cdc9d8d25c7",
   "metadata": {},
   "source": [
    "#### 7.5 What is the breakdown percentages by country?"
   ]
  },
  {
   "cell_type": "code",
   "execution_count": 41,
   "id": "7ef6d44b-576f-462b-b1c8-6bbf4759d274",
   "metadata": {
    "tags": []
   },
   "outputs": [
    {
     "data": {
      "text/html": [
       "<div>\n",
       "<style scoped>\n",
       "    .dataframe tbody tr th:only-of-type {\n",
       "        vertical-align: middle;\n",
       "    }\n",
       "\n",
       "    .dataframe tbody tr th {\n",
       "        vertical-align: top;\n",
       "    }\n",
       "\n",
       "    .dataframe thead th {\n",
       "        text-align: right;\n",
       "    }\n",
       "</style>\n",
       "<table border=\"1\" class=\"dataframe\">\n",
       "  <thead>\n",
       "    <tr style=\"text-align: right;\">\n",
       "      <th></th>\n",
       "      <th>country_code</th>\n",
       "      <th>num_of_companies</th>\n",
       "      <th>%</th>\n",
       "    </tr>\n",
       "  </thead>\n",
       "  <tbody>\n",
       "    <tr>\n",
       "      <th>0</th>\n",
       "      <td>USA</td>\n",
       "      <td>1130976</td>\n",
       "      <td>49.60</td>\n",
       "    </tr>\n",
       "    <tr>\n",
       "      <th>1</th>\n",
       "      <td>GBR</td>\n",
       "      <td>173206</td>\n",
       "      <td>7.60</td>\n",
       "    </tr>\n",
       "    <tr>\n",
       "      <th>2</th>\n",
       "      <td>IND</td>\n",
       "      <td>86203</td>\n",
       "      <td>3.78</td>\n",
       "    </tr>\n",
       "    <tr>\n",
       "      <th>3</th>\n",
       "      <td>DEU</td>\n",
       "      <td>80353</td>\n",
       "      <td>3.52</td>\n",
       "    </tr>\n",
       "    <tr>\n",
       "      <th>4</th>\n",
       "      <td>CAN</td>\n",
       "      <td>75397</td>\n",
       "      <td>3.31</td>\n",
       "    </tr>\n",
       "    <tr>\n",
       "      <th>5</th>\n",
       "      <td>FRA</td>\n",
       "      <td>58166</td>\n",
       "      <td>2.55</td>\n",
       "    </tr>\n",
       "    <tr>\n",
       "      <th>6</th>\n",
       "      <td>AUS</td>\n",
       "      <td>53043</td>\n",
       "      <td>2.33</td>\n",
       "    </tr>\n",
       "    <tr>\n",
       "      <th>7</th>\n",
       "      <td>JPN</td>\n",
       "      <td>50465</td>\n",
       "      <td>2.21</td>\n",
       "    </tr>\n",
       "    <tr>\n",
       "      <th>8</th>\n",
       "      <td>NLD</td>\n",
       "      <td>50395</td>\n",
       "      <td>2.21</td>\n",
       "    </tr>\n",
       "    <tr>\n",
       "      <th>9</th>\n",
       "      <td>ESP</td>\n",
       "      <td>42973</td>\n",
       "      <td>1.88</td>\n",
       "    </tr>\n",
       "  </tbody>\n",
       "</table>\n",
       "</div>"
      ],
      "text/plain": [
       "  country_code  num_of_companies      %\n",
       "0          USA           1130976  49.60\n",
       "1          GBR            173206   7.60\n",
       "2          IND             86203   3.78\n",
       "3          DEU             80353   3.52\n",
       "4          CAN             75397   3.31\n",
       "5          FRA             58166   2.55\n",
       "6          AUS             53043   2.33\n",
       "7          JPN             50465   2.21\n",
       "8          NLD             50395   2.21\n",
       "9          ESP             42973   1.88"
      ]
     },
     "execution_count": 41,
     "metadata": {},
     "output_type": "execute_result"
    }
   ],
   "source": [
    "df_country_code_count = df[['country_code']].value_counts().to_frame(name='num_of_companies').reset_index()\n",
    "\n",
    "df_country_code_count['%'] = round( df_country_code_count['num_of_companies'] / df_country_code_count['num_of_companies'].sum() * 100, 2 )\n",
    "\n",
    "df_country_code_count.head(10)"
   ]
  },
  {
   "cell_type": "markdown",
   "id": "e09b4ec2-9b5d-499c-8d04-c5b961d1987a",
   "metadata": {},
   "source": [
    "#### 7.6 What is the breakdown percentages by continent?\n",
    "\n",
    "To see this, we need to have a `country code <-> continent` table and map it to our dataframe.\n",
    "\n",
    "First, it'd be nice to have the country names too, so let's find a `country code <-> country name` table. This one by [opendatasoft](https://www.opendatasoft.com/) looks perfect:\n",
    "\n",
    "https://public.opendatasoft.com/explore/dataset/countries-codes/export/?rows=1"
   ]
  },
  {
   "cell_type": "code",
   "execution_count": 42,
   "id": "9d852c3f-79f8-4991-96a7-ea32f3c1d088",
   "metadata": {
    "tags": []
   },
   "outputs": [
    {
     "data": {
      "text/html": [
       "<div>\n",
       "<style scoped>\n",
       "    .dataframe tbody tr th:only-of-type {\n",
       "        vertical-align: middle;\n",
       "    }\n",
       "\n",
       "    .dataframe tbody tr th {\n",
       "        vertical-align: top;\n",
       "    }\n",
       "\n",
       "    .dataframe thead th {\n",
       "        text-align: right;\n",
       "    }\n",
       "</style>\n",
       "<table border=\"1\" class=\"dataframe\">\n",
       "  <thead>\n",
       "    <tr style=\"text-align: right;\">\n",
       "      <th></th>\n",
       "      <th>ISO3 CODE</th>\n",
       "      <th>LABEL EN</th>\n",
       "    </tr>\n",
       "  </thead>\n",
       "  <tbody>\n",
       "    <tr>\n",
       "      <th>238</th>\n",
       "      <td>SWE</td>\n",
       "      <td>Sweden</td>\n",
       "    </tr>\n",
       "    <tr>\n",
       "      <th>159</th>\n",
       "      <td>WSM</td>\n",
       "      <td>Samoa</td>\n",
       "    </tr>\n",
       "    <tr>\n",
       "      <th>194</th>\n",
       "      <td>GGY</td>\n",
       "      <td>Guernsey</td>\n",
       "    </tr>\n",
       "    <tr>\n",
       "      <th>110</th>\n",
       "      <td>TUR</td>\n",
       "      <td>Turkey</td>\n",
       "    </tr>\n",
       "    <tr>\n",
       "      <th>48</th>\n",
       "      <td>AUT</td>\n",
       "      <td>Austria</td>\n",
       "    </tr>\n",
       "  </tbody>\n",
       "</table>\n",
       "</div>"
      ],
      "text/plain": [
       "    ISO3 CODE  LABEL EN\n",
       "238       SWE    Sweden\n",
       "159       WSM     Samoa\n",
       "194       GGY  Guernsey\n",
       "110       TUR    Turkey\n",
       "48        AUT   Austria"
      ]
     },
     "execution_count": 42,
     "metadata": {},
     "output_type": "execute_result"
    }
   ],
   "source": [
    "file = 'https://public.opendatasoft.com/api/explore/v2.1/catalog/datasets/countries-codes/exports/csv?lang=en&timezone=America%2FChicago&use_labels=true&delimiter=%3B'\n",
    "\n",
    "df_country_codes = pd.read_csv(file, sep=';', usecols=['ISO3 CODE', 'LABEL EN'])\n",
    "\n",
    "df_country_codes.sample(5)"
   ]
  },
  {
   "cell_type": "code",
   "execution_count": 43,
   "id": "466e066d-e12c-4a8a-9596-4a00f8233995",
   "metadata": {
    "tags": []
   },
   "outputs": [
    {
     "data": {
      "text/html": [
       "<div>\n",
       "<style scoped>\n",
       "    .dataframe tbody tr th:only-of-type {\n",
       "        vertical-align: middle;\n",
       "    }\n",
       "\n",
       "    .dataframe tbody tr th {\n",
       "        vertical-align: top;\n",
       "    }\n",
       "\n",
       "    .dataframe thead th {\n",
       "        text-align: right;\n",
       "    }\n",
       "</style>\n",
       "<table border=\"1\" class=\"dataframe\">\n",
       "  <thead>\n",
       "    <tr style=\"text-align: right;\">\n",
       "      <th></th>\n",
       "      <th>iso3_code</th>\n",
       "      <th>country_name</th>\n",
       "    </tr>\n",
       "  </thead>\n",
       "  <tbody>\n",
       "    <tr>\n",
       "      <th>78</th>\n",
       "      <td>RWA</td>\n",
       "      <td>Rwanda</td>\n",
       "    </tr>\n",
       "    <tr>\n",
       "      <th>110</th>\n",
       "      <td>TUR</td>\n",
       "      <td>Turkey</td>\n",
       "    </tr>\n",
       "    <tr>\n",
       "      <th>121</th>\n",
       "      <td>MNG</td>\n",
       "      <td>Mongolia</td>\n",
       "    </tr>\n",
       "    <tr>\n",
       "      <th>109</th>\n",
       "      <td>SSD</td>\n",
       "      <td>South Sudan, The Republic of</td>\n",
       "    </tr>\n",
       "    <tr>\n",
       "      <th>119</th>\n",
       "      <td>JEY</td>\n",
       "      <td>Jersey</td>\n",
       "    </tr>\n",
       "  </tbody>\n",
       "</table>\n",
       "</div>"
      ],
      "text/plain": [
       "    iso3_code                  country_name\n",
       "78        RWA                        Rwanda\n",
       "110       TUR                        Turkey\n",
       "121       MNG                      Mongolia\n",
       "109       SSD  South Sudan, The Republic of\n",
       "119       JEY                        Jersey"
      ]
     },
     "execution_count": 43,
     "metadata": {},
     "output_type": "execute_result"
    }
   ],
   "source": [
    "# rename columns\n",
    "df_country_codes.rename(columns={'ISO3 CODE': 'iso3_code', 'LABEL EN': 'country_name'}, inplace=True)\n",
    "df_country_codes.sample(5)"
   ]
  },
  {
   "cell_type": "markdown",
   "id": "9b113c10-7bfa-4b71-adcd-e1db950ead25",
   "metadata": {},
   "source": [
    "Now let's procure a `country code <-> continent` table. This one on GitHub by [stevewithington](https://gist.github.com/stevewithington) looks to fit the bill:\n",
    "\n",
    "https://gist.github.com/stevewithington/20a69c0b6d2ff846ea5d35e5fc47f26c"
   ]
  },
  {
   "cell_type": "code",
   "execution_count": 44,
   "id": "164d37a2-4c41-4bcb-ae97-b3192ce6ca3f",
   "metadata": {
    "tags": []
   },
   "outputs": [
    {
     "data": {
      "text/html": [
       "<div>\n",
       "<style scoped>\n",
       "    .dataframe tbody tr th:only-of-type {\n",
       "        vertical-align: middle;\n",
       "    }\n",
       "\n",
       "    .dataframe tbody tr th {\n",
       "        vertical-align: top;\n",
       "    }\n",
       "\n",
       "    .dataframe thead th {\n",
       "        text-align: right;\n",
       "    }\n",
       "</style>\n",
       "<table border=\"1\" class=\"dataframe\">\n",
       "  <thead>\n",
       "    <tr style=\"text-align: right;\">\n",
       "      <th></th>\n",
       "      <th>Continent_Name</th>\n",
       "      <th>Three_Letter_Country_Code</th>\n",
       "    </tr>\n",
       "  </thead>\n",
       "  <tbody>\n",
       "    <tr>\n",
       "      <th>0</th>\n",
       "      <td>Asia</td>\n",
       "      <td>AFG</td>\n",
       "    </tr>\n",
       "    <tr>\n",
       "      <th>1</th>\n",
       "      <td>Europe</td>\n",
       "      <td>ALB</td>\n",
       "    </tr>\n",
       "    <tr>\n",
       "      <th>2</th>\n",
       "      <td>Antarctica</td>\n",
       "      <td>ATA</td>\n",
       "    </tr>\n",
       "    <tr>\n",
       "      <th>3</th>\n",
       "      <td>Africa</td>\n",
       "      <td>DZA</td>\n",
       "    </tr>\n",
       "    <tr>\n",
       "      <th>4</th>\n",
       "      <td>Oceania</td>\n",
       "      <td>ASM</td>\n",
       "    </tr>\n",
       "  </tbody>\n",
       "</table>\n",
       "</div>"
      ],
      "text/plain": [
       "  Continent_Name Three_Letter_Country_Code\n",
       "0           Asia                       AFG\n",
       "1         Europe                       ALB\n",
       "2     Antarctica                       ATA\n",
       "3         Africa                       DZA\n",
       "4        Oceania                       ASM"
      ]
     },
     "execution_count": 44,
     "metadata": {},
     "output_type": "execute_result"
    }
   ],
   "source": [
    "df_continent_codes = pd.read_csv(\n",
    "    'https://gist.githubusercontent.com/stevewithington/20a69c0b6d2ff846ea5d35e5fc47f26c/raw/13716ceb2f22b5643ce5e7039643c86a0e0c6da6/country-and-continent-codes-list-csv.csv',\n",
    "    usecols=['Continent_Name', 'Three_Letter_Country_Code']\n",
    ")\n",
    "\n",
    "df_continent_codes.head()"
   ]
  },
  {
   "cell_type": "code",
   "execution_count": 45,
   "id": "ae2ec185-12fe-45ed-bcef-df191ffe301b",
   "metadata": {
    "tags": []
   },
   "outputs": [
    {
     "data": {
      "text/html": [
       "<div>\n",
       "<style scoped>\n",
       "    .dataframe tbody tr th:only-of-type {\n",
       "        vertical-align: middle;\n",
       "    }\n",
       "\n",
       "    .dataframe tbody tr th {\n",
       "        vertical-align: top;\n",
       "    }\n",
       "\n",
       "    .dataframe thead th {\n",
       "        text-align: right;\n",
       "    }\n",
       "</style>\n",
       "<table border=\"1\" class=\"dataframe\">\n",
       "  <thead>\n",
       "    <tr style=\"text-align: right;\">\n",
       "      <th></th>\n",
       "      <th>continent_name</th>\n",
       "      <th>country_code</th>\n",
       "    </tr>\n",
       "  </thead>\n",
       "  <tbody>\n",
       "    <tr>\n",
       "      <th>0</th>\n",
       "      <td>Asia</td>\n",
       "      <td>AFG</td>\n",
       "    </tr>\n",
       "    <tr>\n",
       "      <th>1</th>\n",
       "      <td>Europe</td>\n",
       "      <td>ALB</td>\n",
       "    </tr>\n",
       "    <tr>\n",
       "      <th>2</th>\n",
       "      <td>Antarctica</td>\n",
       "      <td>ATA</td>\n",
       "    </tr>\n",
       "    <tr>\n",
       "      <th>3</th>\n",
       "      <td>Africa</td>\n",
       "      <td>DZA</td>\n",
       "    </tr>\n",
       "    <tr>\n",
       "      <th>4</th>\n",
       "      <td>Oceania</td>\n",
       "      <td>ASM</td>\n",
       "    </tr>\n",
       "  </tbody>\n",
       "</table>\n",
       "</div>"
      ],
      "text/plain": [
       "  continent_name country_code\n",
       "0           Asia          AFG\n",
       "1         Europe          ALB\n",
       "2     Antarctica          ATA\n",
       "3         Africa          DZA\n",
       "4        Oceania          ASM"
      ]
     },
     "execution_count": 45,
     "metadata": {},
     "output_type": "execute_result"
    }
   ],
   "source": [
    "# rename columns\n",
    "df_continent_codes.rename(\n",
    "    columns={'Continent_Name': 'continent_name', 'Three_Letter_Country_Code': 'country_code'},\n",
    "    inplace=True\n",
    ")\n",
    "\n",
    "df_continent_codes.head()"
   ]
  },
  {
   "cell_type": "markdown",
   "id": "864140f4-bb08-4389-8d72-163a11602afd",
   "metadata": {},
   "source": [
    "Now that we have both `country code <-> country name` and `country code <-> continent` tables, let's merge them in:"
   ]
  },
  {
   "cell_type": "code",
   "execution_count": 46,
   "id": "514a506d-8a13-4196-bf28-066ae1b44dd8",
   "metadata": {
    "tags": []
   },
   "outputs": [
    {
     "data": {
      "text/html": [
       "<div>\n",
       "<style scoped>\n",
       "    .dataframe tbody tr th:only-of-type {\n",
       "        vertical-align: middle;\n",
       "    }\n",
       "\n",
       "    .dataframe tbody tr th {\n",
       "        vertical-align: top;\n",
       "    }\n",
       "\n",
       "    .dataframe thead th {\n",
       "        text-align: right;\n",
       "    }\n",
       "</style>\n",
       "<table border=\"1\" class=\"dataframe\">\n",
       "  <thead>\n",
       "    <tr style=\"text-align: right;\">\n",
       "      <th></th>\n",
       "      <th>name</th>\n",
       "      <th>type</th>\n",
       "      <th>primary_role</th>\n",
       "      <th>combined_stock_symbols</th>\n",
       "      <th>city</th>\n",
       "      <th>region</th>\n",
       "      <th>country_code</th>\n",
       "      <th>iso3_code</th>\n",
       "      <th>country_name</th>\n",
       "      <th>continent_name</th>\n",
       "    </tr>\n",
       "  </thead>\n",
       "  <tbody>\n",
       "    <tr>\n",
       "      <th>0</th>\n",
       "      <td>Wetpaint</td>\n",
       "      <td>organization</td>\n",
       "      <td>company</td>\n",
       "      <td>NaN</td>\n",
       "      <td>New York</td>\n",
       "      <td>New York</td>\n",
       "      <td>USA</td>\n",
       "      <td>USA</td>\n",
       "      <td>United States</td>\n",
       "      <td>North America</td>\n",
       "    </tr>\n",
       "    <tr>\n",
       "      <th>1</th>\n",
       "      <td>Zoho</td>\n",
       "      <td>organization</td>\n",
       "      <td>company</td>\n",
       "      <td>NaN</td>\n",
       "      <td>Pleasanton</td>\n",
       "      <td>California</td>\n",
       "      <td>USA</td>\n",
       "      <td>USA</td>\n",
       "      <td>United States</td>\n",
       "      <td>North America</td>\n",
       "    </tr>\n",
       "    <tr>\n",
       "      <th>2</th>\n",
       "      <td>Digg</td>\n",
       "      <td>organization</td>\n",
       "      <td>company</td>\n",
       "      <td>NaN</td>\n",
       "      <td>New York</td>\n",
       "      <td>New York</td>\n",
       "      <td>USA</td>\n",
       "      <td>USA</td>\n",
       "      <td>United States</td>\n",
       "      <td>North America</td>\n",
       "    </tr>\n",
       "    <tr>\n",
       "      <th>3</th>\n",
       "      <td>Meta</td>\n",
       "      <td>organization</td>\n",
       "      <td>company</td>\n",
       "      <td>nasdaq:META</td>\n",
       "      <td>Menlo Park</td>\n",
       "      <td>California</td>\n",
       "      <td>USA</td>\n",
       "      <td>USA</td>\n",
       "      <td>United States</td>\n",
       "      <td>North America</td>\n",
       "    </tr>\n",
       "    <tr>\n",
       "      <th>4</th>\n",
       "      <td>Omnidrive</td>\n",
       "      <td>organization</td>\n",
       "      <td>company</td>\n",
       "      <td>NaN</td>\n",
       "      <td>Palo Alto</td>\n",
       "      <td>California</td>\n",
       "      <td>USA</td>\n",
       "      <td>USA</td>\n",
       "      <td>United States</td>\n",
       "      <td>North America</td>\n",
       "    </tr>\n",
       "  </tbody>\n",
       "</table>\n",
       "</div>"
      ],
      "text/plain": [
       "        name          type primary_role combined_stock_symbols        city  \\\n",
       "0   Wetpaint  organization      company                    NaN    New York   \n",
       "1       Zoho  organization      company                    NaN  Pleasanton   \n",
       "2       Digg  organization      company                    NaN    New York   \n",
       "3       Meta  organization      company            nasdaq:META  Menlo Park   \n",
       "4  Omnidrive  organization      company                    NaN   Palo Alto   \n",
       "\n",
       "       region country_code iso3_code   country_name continent_name  \n",
       "0    New York          USA       USA  United States  North America  \n",
       "1  California          USA       USA  United States  North America  \n",
       "2    New York          USA       USA  United States  North America  \n",
       "3  California          USA       USA  United States  North America  \n",
       "4  California          USA       USA  United States  North America  "
      ]
     },
     "execution_count": 46,
     "metadata": {},
     "output_type": "execute_result"
    }
   ],
   "source": [
    "df_continents = df.merge(\n",
    "    df_country_codes,\n",
    "    left_on=['country_code'],\n",
    "    right_on=['iso3_code'],\n",
    "    how='left').merge(\n",
    "    df_continent_codes,\n",
    "    left_on=['country_code'],\n",
    "    right_on=['country_code'],\n",
    "    how='left'\n",
    ")\n",
    "df_continents.head()"
   ]
  },
  {
   "cell_type": "code",
   "execution_count": 47,
   "id": "87c1c097-874e-48bb-bb1e-20410ef0a3c2",
   "metadata": {
    "tags": []
   },
   "outputs": [
    {
     "data": {
      "text/html": [
       "<div>\n",
       "<style scoped>\n",
       "    .dataframe tbody tr th:only-of-type {\n",
       "        vertical-align: middle;\n",
       "    }\n",
       "\n",
       "    .dataframe tbody tr th {\n",
       "        vertical-align: top;\n",
       "    }\n",
       "\n",
       "    .dataframe thead th {\n",
       "        text-align: right;\n",
       "    }\n",
       "</style>\n",
       "<table border=\"1\" class=\"dataframe\">\n",
       "  <thead>\n",
       "    <tr style=\"text-align: right;\">\n",
       "      <th></th>\n",
       "      <th>name</th>\n",
       "      <th>type</th>\n",
       "      <th>primary_role</th>\n",
       "      <th>combined_stock_symbols</th>\n",
       "      <th>city</th>\n",
       "      <th>region</th>\n",
       "      <th>country_code</th>\n",
       "      <th>country_name</th>\n",
       "      <th>continent_name</th>\n",
       "    </tr>\n",
       "  </thead>\n",
       "  <tbody>\n",
       "    <tr>\n",
       "      <th>0</th>\n",
       "      <td>Wetpaint</td>\n",
       "      <td>organization</td>\n",
       "      <td>company</td>\n",
       "      <td>NaN</td>\n",
       "      <td>New York</td>\n",
       "      <td>New York</td>\n",
       "      <td>USA</td>\n",
       "      <td>United States</td>\n",
       "      <td>North America</td>\n",
       "    </tr>\n",
       "    <tr>\n",
       "      <th>1</th>\n",
       "      <td>Zoho</td>\n",
       "      <td>organization</td>\n",
       "      <td>company</td>\n",
       "      <td>NaN</td>\n",
       "      <td>Pleasanton</td>\n",
       "      <td>California</td>\n",
       "      <td>USA</td>\n",
       "      <td>United States</td>\n",
       "      <td>North America</td>\n",
       "    </tr>\n",
       "    <tr>\n",
       "      <th>2</th>\n",
       "      <td>Digg</td>\n",
       "      <td>organization</td>\n",
       "      <td>company</td>\n",
       "      <td>NaN</td>\n",
       "      <td>New York</td>\n",
       "      <td>New York</td>\n",
       "      <td>USA</td>\n",
       "      <td>United States</td>\n",
       "      <td>North America</td>\n",
       "    </tr>\n",
       "    <tr>\n",
       "      <th>3</th>\n",
       "      <td>Meta</td>\n",
       "      <td>organization</td>\n",
       "      <td>company</td>\n",
       "      <td>nasdaq:META</td>\n",
       "      <td>Menlo Park</td>\n",
       "      <td>California</td>\n",
       "      <td>USA</td>\n",
       "      <td>United States</td>\n",
       "      <td>North America</td>\n",
       "    </tr>\n",
       "    <tr>\n",
       "      <th>4</th>\n",
       "      <td>Omnidrive</td>\n",
       "      <td>organization</td>\n",
       "      <td>company</td>\n",
       "      <td>NaN</td>\n",
       "      <td>Palo Alto</td>\n",
       "      <td>California</td>\n",
       "      <td>USA</td>\n",
       "      <td>United States</td>\n",
       "      <td>North America</td>\n",
       "    </tr>\n",
       "  </tbody>\n",
       "</table>\n",
       "</div>"
      ],
      "text/plain": [
       "        name          type primary_role combined_stock_symbols        city  \\\n",
       "0   Wetpaint  organization      company                    NaN    New York   \n",
       "1       Zoho  organization      company                    NaN  Pleasanton   \n",
       "2       Digg  organization      company                    NaN    New York   \n",
       "3       Meta  organization      company            nasdaq:META  Menlo Park   \n",
       "4  Omnidrive  organization      company                    NaN   Palo Alto   \n",
       "\n",
       "       region country_code   country_name continent_name  \n",
       "0    New York          USA  United States  North America  \n",
       "1  California          USA  United States  North America  \n",
       "2    New York          USA  United States  North America  \n",
       "3  California          USA  United States  North America  \n",
       "4  California          USA  United States  North America  "
      ]
     },
     "execution_count": 47,
     "metadata": {},
     "output_type": "execute_result"
    }
   ],
   "source": [
    "# drop unneeded column\n",
    "df_continents.drop(columns=['iso3_code'], inplace=True)\n",
    "df_continents.head()"
   ]
  },
  {
   "cell_type": "code",
   "execution_count": 48,
   "id": "d9fb8fe5-1ae7-4bc8-a7c4-61927dd3ee84",
   "metadata": {
    "tags": []
   },
   "outputs": [
    {
     "name": "stdout",
     "output_type": "stream",
     "text": [
      "<class 'pandas.core.frame.DataFrame'>\n",
      "Int64Index: 2301808 entries, 0 to 2301807\n",
      "Data columns (total 9 columns):\n",
      " #   Column                  Dtype   \n",
      "---  ------                  -----   \n",
      " 0   name                    object  \n",
      " 1   type                    category\n",
      " 2   primary_role            category\n",
      " 3   combined_stock_symbols  object  \n",
      " 4   city                    category\n",
      " 5   region                  category\n",
      " 6   country_code            object  \n",
      " 7   country_name            object  \n",
      " 8   continent_name          object  \n",
      "dtypes: category(4), object(5)\n",
      "memory usage: 125.5+ MB\n"
     ]
    }
   ],
   "source": [
    "df_continents.info()"
   ]
  },
  {
   "cell_type": "markdown",
   "id": "30e46289-2ce3-4ec1-ba4b-24345445c237",
   "metadata": {},
   "source": [
    "We can convert the 'dtype' of both 'country_name' and 'continent_name' columns to `category`:"
   ]
  },
  {
   "cell_type": "code",
   "execution_count": 49,
   "id": "29494bc6-a2e8-4b4a-8323-6e0cb37856f1",
   "metadata": {
    "tags": []
   },
   "outputs": [],
   "source": [
    "for col in ['country_name', 'continent_name']:\n",
    "    df_continents[col] = df_continents[col].astype('category')"
   ]
  },
  {
   "cell_type": "code",
   "execution_count": 50,
   "id": "b203e3d5-531c-4bd5-80a6-57b0830f2ef6",
   "metadata": {
    "tags": []
   },
   "outputs": [
    {
     "name": "stdout",
     "output_type": "stream",
     "text": [
      "Memory usage of entire dataset in MB is: 411.88\n"
     ]
    }
   ],
   "source": [
    "get_mem_usage(df_continents)"
   ]
  },
  {
   "cell_type": "code",
   "execution_count": 51,
   "id": "25221597-b749-45a1-adce-6dbcf2aa1b76",
   "metadata": {
    "tags": []
   },
   "outputs": [
    {
     "name": "stdout",
     "output_type": "stream",
     "text": [
      "<class 'pandas.core.frame.DataFrame'>\n",
      "Int64Index: 2301808 entries, 0 to 2301807\n",
      "Data columns (total 9 columns):\n",
      " #   Column                  Dtype   \n",
      "---  ------                  -----   \n",
      " 0   name                    object  \n",
      " 1   type                    category\n",
      " 2   primary_role            category\n",
      " 3   combined_stock_symbols  object  \n",
      " 4   city                    category\n",
      " 5   region                  category\n",
      " 6   country_code            object  \n",
      " 7   country_name            category\n",
      " 8   continent_name          category\n",
      "dtypes: category(6), object(3)\n",
      "memory usage: 97.0+ MB\n"
     ]
    }
   ],
   "source": [
    "df_continents.info()"
   ]
  },
  {
   "cell_type": "markdown",
   "id": "685592a1-1342-40be-bde7-35f944fda16b",
   "metadata": {},
   "source": [
    "#### 7.6 What is the breakdown percentages by continent?\n",
    "\n",
    "Now we can answer the question:"
   ]
  },
  {
   "cell_type": "code",
   "execution_count": 52,
   "id": "1d38dd4e-5e0b-4558-9fec-ccdbe587b95a",
   "metadata": {
    "tags": []
   },
   "outputs": [
    {
     "data": {
      "text/html": [
       "<div>\n",
       "<style scoped>\n",
       "    .dataframe tbody tr th:only-of-type {\n",
       "        vertical-align: middle;\n",
       "    }\n",
       "\n",
       "    .dataframe tbody tr th {\n",
       "        vertical-align: top;\n",
       "    }\n",
       "\n",
       "    .dataframe thead th {\n",
       "        text-align: right;\n",
       "    }\n",
       "</style>\n",
       "<table border=\"1\" class=\"dataframe\">\n",
       "  <thead>\n",
       "    <tr style=\"text-align: right;\">\n",
       "      <th></th>\n",
       "      <th>continent_name</th>\n",
       "      <th>num_of_companies</th>\n",
       "      <th>%</th>\n",
       "    </tr>\n",
       "  </thead>\n",
       "  <tbody>\n",
       "    <tr>\n",
       "      <th>0</th>\n",
       "      <td>North America</td>\n",
       "      <td>1222576</td>\n",
       "      <td>53.30</td>\n",
       "    </tr>\n",
       "    <tr>\n",
       "      <th>1</th>\n",
       "      <td>Europe</td>\n",
       "      <td>624250</td>\n",
       "      <td>27.21</td>\n",
       "    </tr>\n",
       "    <tr>\n",
       "      <th>2</th>\n",
       "      <td>Asia</td>\n",
       "      <td>310936</td>\n",
       "      <td>13.56</td>\n",
       "    </tr>\n",
       "    <tr>\n",
       "      <th>3</th>\n",
       "      <td>Oceania</td>\n",
       "      <td>61045</td>\n",
       "      <td>2.66</td>\n",
       "    </tr>\n",
       "    <tr>\n",
       "      <th>4</th>\n",
       "      <td>South America</td>\n",
       "      <td>46784</td>\n",
       "      <td>2.04</td>\n",
       "    </tr>\n",
       "    <tr>\n",
       "      <th>5</th>\n",
       "      <td>Africa</td>\n",
       "      <td>28213</td>\n",
       "      <td>1.23</td>\n",
       "    </tr>\n",
       "    <tr>\n",
       "      <th>6</th>\n",
       "      <td>Antarctica</td>\n",
       "      <td>2</td>\n",
       "      <td>0.00</td>\n",
       "    </tr>\n",
       "  </tbody>\n",
       "</table>\n",
       "</div>"
      ],
      "text/plain": [
       "  continent_name  num_of_companies      %\n",
       "0  North America           1222576  53.30\n",
       "1         Europe            624250  27.21\n",
       "2           Asia            310936  13.56\n",
       "3        Oceania             61045   2.66\n",
       "4  South America             46784   2.04\n",
       "5         Africa             28213   1.23\n",
       "6     Antarctica                 2   0.00"
      ]
     },
     "execution_count": 52,
     "metadata": {},
     "output_type": "execute_result"
    }
   ],
   "source": [
    "df_continent_count = df_continents[['continent_name']].value_counts().to_frame(name='num_of_companies').reset_index()\n",
    "\n",
    "df_continent_count['%'] = round( df_continent_count['num_of_companies'] / df_continent_count['num_of_companies'].sum() * 100, 2 )\n",
    "\n",
    "df_continent_count.head(10)"
   ]
  },
  {
   "cell_type": "code",
   "execution_count": 53,
   "id": "dfce528d-88c9-4b56-b72d-eb47acc892e5",
   "metadata": {
    "tags": []
   },
   "outputs": [
    {
     "data": {
      "image/png": "[encoded data removed]"
     },
     "metadata": {},
     "output_type": "display_data"
    }
   ],
   "source": [
    "import plotly.express as px\n",
    "import plotly.io as pio\n",
    "\n",
    "pio.templates.default = 'simple_white'\n",
    "\n",
    "def show_fig():\n",
    "    fig.show(renderer='png', width=800)\n",
    "\n",
    "fig = px.pie(df_continent_count,\n",
    "             values='num_of_companies',\n",
    "             names='continent_name',\n",
    "             title='Companies by continent breakdown')\n",
    "\n",
    "fig.update_traces(textposition='inside', textinfo='percent+label')\n",
    "\n",
    "show_fig()"
   ]
  },
  {
   "cell_type": "markdown",
   "id": "76216cc5-178b-4500-922f-00f633e4dd62",
   "metadata": {},
   "source": [
    "Interesting, there appears to be 2 companies in Antarctica. Let's have a look:"
   ]
  },
  {
   "cell_type": "code",
   "execution_count": 54,
   "id": "07d04ac7-5a19-4c4d-aedd-afe08c401974",
   "metadata": {
    "tags": []
   },
   "outputs": [
    {
     "data": {
      "text/html": [
       "<div>\n",
       "<style scoped>\n",
       "    .dataframe tbody tr th:only-of-type {\n",
       "        vertical-align: middle;\n",
       "    }\n",
       "\n",
       "    .dataframe tbody tr th {\n",
       "        vertical-align: top;\n",
       "    }\n",
       "\n",
       "    .dataframe thead th {\n",
       "        text-align: right;\n",
       "    }\n",
       "</style>\n",
       "<table border=\"1\" class=\"dataframe\">\n",
       "  <thead>\n",
       "    <tr style=\"text-align: right;\">\n",
       "      <th></th>\n",
       "      <th>name</th>\n",
       "      <th>type</th>\n",
       "      <th>primary_role</th>\n",
       "      <th>combined_stock_symbols</th>\n",
       "      <th>city</th>\n",
       "      <th>region</th>\n",
       "      <th>country_code</th>\n",
       "      <th>country_name</th>\n",
       "      <th>continent_name</th>\n",
       "    </tr>\n",
       "  </thead>\n",
       "  <tbody>\n",
       "    <tr>\n",
       "      <th>1238022</th>\n",
       "      <td>Names Directory</td>\n",
       "      <td>organization</td>\n",
       "      <td>company</td>\n",
       "      <td>NaN</td>\n",
       "      <td>Bouvet Island</td>\n",
       "      <td>NA - Bouvet Island</td>\n",
       "      <td>BVT</td>\n",
       "      <td>NaN</td>\n",
       "      <td>Antarctica</td>\n",
       "    </tr>\n",
       "    <tr>\n",
       "      <th>2019999</th>\n",
       "      <td>QBO</td>\n",
       "      <td>organization</td>\n",
       "      <td>company</td>\n",
       "      <td>NaN</td>\n",
       "      <td>Bouvet Island</td>\n",
       "      <td>NA - Bouvet Island</td>\n",
       "      <td>BVT</td>\n",
       "      <td>NaN</td>\n",
       "      <td>Antarctica</td>\n",
       "    </tr>\n",
       "  </tbody>\n",
       "</table>\n",
       "</div>"
      ],
      "text/plain": [
       "                    name          type primary_role combined_stock_symbols  \\\n",
       "1238022  Names Directory  organization      company                    NaN   \n",
       "2019999              QBO  organization      company                    NaN   \n",
       "\n",
       "                  city              region country_code country_name  \\\n",
       "1238022  Bouvet Island  NA - Bouvet Island          BVT          NaN   \n",
       "2019999  Bouvet Island  NA - Bouvet Island          BVT          NaN   \n",
       "\n",
       "        continent_name  \n",
       "1238022     Antarctica  \n",
       "2019999     Antarctica  "
      ]
     },
     "execution_count": 54,
     "metadata": {},
     "output_type": "execute_result"
    }
   ],
   "source": [
    "df_continents.query('continent_name==\"Antarctica\"')"
   ]
  },
  {
   "cell_type": "code",
   "execution_count": 55,
   "id": "5c03f6b3-6a1b-419d-a179-a5499197f028",
   "metadata": {
    "tags": []
   },
   "outputs": [],
   "source": [
    "#### 7.7 What are the top 10 countries with the most companies?"
   ]
  },
  {
   "cell_type": "code",
   "execution_count": 56,
   "id": "540eff7d-5ffb-480e-b8ed-11eac8932a69",
   "metadata": {
    "tags": []
   },
   "outputs": [
    {
     "data": {
      "text/html": [
       "<div>\n",
       "<style scoped>\n",
       "    .dataframe tbody tr th:only-of-type {\n",
       "        vertical-align: middle;\n",
       "    }\n",
       "\n",
       "    .dataframe tbody tr th {\n",
       "        vertical-align: top;\n",
       "    }\n",
       "\n",
       "    .dataframe thead th {\n",
       "        text-align: right;\n",
       "    }\n",
       "</style>\n",
       "<table border=\"1\" class=\"dataframe\">\n",
       "  <thead>\n",
       "    <tr style=\"text-align: right;\">\n",
       "      <th></th>\n",
       "      <th>index</th>\n",
       "      <th>num_of_companies</th>\n",
       "    </tr>\n",
       "  </thead>\n",
       "  <tbody>\n",
       "    <tr>\n",
       "      <th>0</th>\n",
       "      <td>United States</td>\n",
       "      <td>1130976</td>\n",
       "    </tr>\n",
       "    <tr>\n",
       "      <th>1</th>\n",
       "      <td>United Kingdom</td>\n",
       "      <td>173206</td>\n",
       "    </tr>\n",
       "    <tr>\n",
       "      <th>2</th>\n",
       "      <td>India</td>\n",
       "      <td>86203</td>\n",
       "    </tr>\n",
       "    <tr>\n",
       "      <th>3</th>\n",
       "      <td>Germany</td>\n",
       "      <td>80353</td>\n",
       "    </tr>\n",
       "    <tr>\n",
       "      <th>4</th>\n",
       "      <td>Canada</td>\n",
       "      <td>75397</td>\n",
       "    </tr>\n",
       "    <tr>\n",
       "      <th>5</th>\n",
       "      <td>France</td>\n",
       "      <td>58166</td>\n",
       "    </tr>\n",
       "    <tr>\n",
       "      <th>6</th>\n",
       "      <td>Australia</td>\n",
       "      <td>53043</td>\n",
       "    </tr>\n",
       "    <tr>\n",
       "      <th>7</th>\n",
       "      <td>Japan</td>\n",
       "      <td>50465</td>\n",
       "    </tr>\n",
       "    <tr>\n",
       "      <th>8</th>\n",
       "      <td>Netherlands</td>\n",
       "      <td>50395</td>\n",
       "    </tr>\n",
       "    <tr>\n",
       "      <th>9</th>\n",
       "      <td>Spain</td>\n",
       "      <td>42973</td>\n",
       "    </tr>\n",
       "  </tbody>\n",
       "</table>\n",
       "</div>"
      ],
      "text/plain": [
       "            index  num_of_companies\n",
       "0   United States           1130976\n",
       "1  United Kingdom            173206\n",
       "2           India             86203\n",
       "3         Germany             80353\n",
       "4          Canada             75397\n",
       "5          France             58166\n",
       "6       Australia             53043\n",
       "7           Japan             50465\n",
       "8     Netherlands             50395\n",
       "9           Spain             42973"
      ]
     },
     "execution_count": 56,
     "metadata": {},
     "output_type": "execute_result"
    }
   ],
   "source": [
    "df_top_10_countries = df_continents['country_name'].value_counts().head(10).to_frame(name='num_of_companies').reset_index()\n",
    "\n",
    "df_top_10_countries"
   ]
  },
  {
   "cell_type": "code",
   "execution_count": 57,
   "id": "da5ab5fb-392e-495f-b857-be6aed28fa98",
   "metadata": {
    "tags": []
   },
   "outputs": [
    {
     "data": {
      "image/png": "[encoded data removed]"
     },
     "metadata": {},
     "output_type": "display_data"
    }
   ],
   "source": [
    "fig = px.bar(df_top_10_countries.sort_values('num_of_companies', ascending=True), x='num_of_companies', y='index',\n",
    "             orientation='h',\n",
    "             labels={'index': 'Country', 'num_of_companies': 'Number of Companies'},\n",
    "             title='Top 10 countries with the most companies')\n",
    "\n",
    "show_fig()"
   ]
  },
  {
   "cell_type": "markdown",
   "id": "b863fd71-b559-441f-b56d-14a27ec58a63",
   "metadata": {},
   "source": [
    "#### 7.8 What are the top 10 cities with the most companies?"
   ]
  },
  {
   "cell_type": "code",
   "execution_count": 58,
   "id": "2ef0b356-db51-44da-889d-18c0fada7735",
   "metadata": {
    "tags": []
   },
   "outputs": [
    {
     "data": {
      "text/html": [
       "<div>\n",
       "<style scoped>\n",
       "    .dataframe tbody tr th:only-of-type {\n",
       "        vertical-align: middle;\n",
       "    }\n",
       "\n",
       "    .dataframe tbody tr th {\n",
       "        vertical-align: top;\n",
       "    }\n",
       "\n",
       "    .dataframe thead th {\n",
       "        text-align: right;\n",
       "    }\n",
       "</style>\n",
       "<table border=\"1\" class=\"dataframe\">\n",
       "  <thead>\n",
       "    <tr style=\"text-align: right;\">\n",
       "      <th></th>\n",
       "      <th>city</th>\n",
       "      <th>region</th>\n",
       "      <th>num_of_companies</th>\n",
       "    </tr>\n",
       "  </thead>\n",
       "  <tbody>\n",
       "    <tr>\n",
       "      <th>0</th>\n",
       "      <td>London</td>\n",
       "      <td>England</td>\n",
       "      <td>53904</td>\n",
       "    </tr>\n",
       "    <tr>\n",
       "      <th>1</th>\n",
       "      <td>New York</td>\n",
       "      <td>New York</td>\n",
       "      <td>49347</td>\n",
       "    </tr>\n",
       "    <tr>\n",
       "      <th>2</th>\n",
       "      <td>San Francisco</td>\n",
       "      <td>California</td>\n",
       "      <td>26597</td>\n",
       "    </tr>\n",
       "    <tr>\n",
       "      <th>3</th>\n",
       "      <td>Los Angeles</td>\n",
       "      <td>California</td>\n",
       "      <td>20634</td>\n",
       "    </tr>\n",
       "    <tr>\n",
       "      <th>4</th>\n",
       "      <td>Tokyo</td>\n",
       "      <td>Tokyo</td>\n",
       "      <td>19412</td>\n",
       "    </tr>\n",
       "    <tr>\n",
       "      <th>5</th>\n",
       "      <td>Chicago</td>\n",
       "      <td>Illinois</td>\n",
       "      <td>17010</td>\n",
       "    </tr>\n",
       "    <tr>\n",
       "      <th>6</th>\n",
       "      <td>Paris</td>\n",
       "      <td>Ile-de-France</td>\n",
       "      <td>16175</td>\n",
       "    </tr>\n",
       "    <tr>\n",
       "      <th>7</th>\n",
       "      <td>Houston</td>\n",
       "      <td>Texas</td>\n",
       "      <td>16047</td>\n",
       "    </tr>\n",
       "    <tr>\n",
       "      <th>8</th>\n",
       "      <td>Toronto</td>\n",
       "      <td>Ontario</td>\n",
       "      <td>15147</td>\n",
       "    </tr>\n",
       "    <tr>\n",
       "      <th>9</th>\n",
       "      <td>Singapore</td>\n",
       "      <td>Central Region</td>\n",
       "      <td>12996</td>\n",
       "    </tr>\n",
       "  </tbody>\n",
       "</table>\n",
       "</div>"
      ],
      "text/plain": [
       "            city          region  num_of_companies\n",
       "0         London         England             53904\n",
       "1       New York        New York             49347\n",
       "2  San Francisco      California             26597\n",
       "3    Los Angeles      California             20634\n",
       "4          Tokyo           Tokyo             19412\n",
       "5        Chicago        Illinois             17010\n",
       "6          Paris   Ile-de-France             16175\n",
       "7        Houston           Texas             16047\n",
       "8        Toronto         Ontario             15147\n",
       "9      Singapore  Central Region             12996"
      ]
     },
     "execution_count": 58,
     "metadata": {},
     "output_type": "execute_result"
    }
   ],
   "source": [
    "df_top_10_cities = df_continents[['city', 'region']].value_counts().head(10).to_frame(name='num_of_companies').reset_index()\n",
    "\n",
    "df_top_10_cities"
   ]
  },
  {
   "cell_type": "code",
   "execution_count": 59,
   "id": "6781f5b6-d122-4b3a-a133-733c73ef0eed",
   "metadata": {
    "tags": []
   },
   "outputs": [
    {
     "data": {
      "image/png": "[encoded data removed]"
     },
     "metadata": {},
     "output_type": "display_data"
    }
   ],
   "source": [
    "fig = px.bar(df_top_10_cities.sort_values('num_of_companies', ascending=True), x='num_of_companies', y='city',\n",
    "             orientation='h',\n",
    "             labels={'city': 'City', 'num_of_companies': 'Number of Companies'},\n",
    "             title='Top 10 cities with the most companies')\n",
    "\n",
    "show_fig()"
   ]
  },
  {
   "cell_type": "markdown",
   "id": "6e62208d-51fc-4d0a-b8b3-8f18d285b3a3",
   "metadata": {},
   "source": [
    "#### 7.9 In the U.S., how many companies are private vs. public?"
   ]
  },
  {
   "cell_type": "code",
   "execution_count": 60,
   "id": "dab987cd-9c6e-4de2-8a2f-52e07bf3bdee",
   "metadata": {
    "tags": []
   },
   "outputs": [
    {
     "data": {
      "text/html": [
       "<div>\n",
       "<style scoped>\n",
       "    .dataframe tbody tr th:only-of-type {\n",
       "        vertical-align: middle;\n",
       "    }\n",
       "\n",
       "    .dataframe tbody tr th {\n",
       "        vertical-align: top;\n",
       "    }\n",
       "\n",
       "    .dataframe thead th {\n",
       "        text-align: right;\n",
       "    }\n",
       "</style>\n",
       "<table border=\"1\" class=\"dataframe\">\n",
       "  <thead>\n",
       "    <tr style=\"text-align: right;\">\n",
       "      <th></th>\n",
       "      <th>index</th>\n",
       "      <th>num_of_companies</th>\n",
       "      <th>%</th>\n",
       "    </tr>\n",
       "  </thead>\n",
       "  <tbody>\n",
       "    <tr>\n",
       "      <th>0</th>\n",
       "      <td>private</td>\n",
       "      <td>1121987</td>\n",
       "      <td>99.21</td>\n",
       "    </tr>\n",
       "    <tr>\n",
       "      <th>1</th>\n",
       "      <td>public</td>\n",
       "      <td>8989</td>\n",
       "      <td>0.79</td>\n",
       "    </tr>\n",
       "  </tbody>\n",
       "</table>\n",
       "</div>"
      ],
      "text/plain": [
       "     index  num_of_companies      %\n",
       "0  private           1121987  99.21\n",
       "1   public              8989   0.79"
      ]
     },
     "execution_count": 60,
     "metadata": {},
     "output_type": "execute_result"
    }
   ],
   "source": [
    "# add a new column 'status' to denote whether the company is 'private' or 'public' based on the 'combined_stock_symbols' value\n",
    "df['status'] = df['combined_stock_symbols'].apply(lambda x: 'private' if pd.isnull(x) else 'public')\n",
    "\n",
    "# USA only\n",
    "df_usa = df.query('country_code==\"USA\"')\n",
    "\n",
    "df_status_count = df_usa['status'].value_counts().head(10).to_frame(name='num_of_companies').reset_index()\n",
    "df_status_count['%'] = round( df_status_count['num_of_companies'] / df_status_count['num_of_companies'].sum() * 100, 2 )\n",
    "\n",
    "df_status_count"
   ]
  },
  {
   "cell_type": "code",
   "execution_count": 61,
   "id": "ad9756b5-c98b-42cd-af85-7939efea033b",
   "metadata": {
    "tags": []
   },
   "outputs": [
    {
     "data": {
      "image/png": "[encoded data removed]"
     },
     "metadata": {},
     "output_type": "display_data"
    }
   ],
   "source": [
    "fig = px.pie(df_status_count,\n",
    "             values='num_of_companies',\n",
    "             names='index',\n",
    "             title='Private vs. Public')\n",
    "\n",
    "fig.update_traces(textposition='inside', textinfo='percent+label')\n",
    "\n",
    "show_fig()"
   ]
  },
  {
   "cell_type": "markdown",
   "id": "5c89f99f-51ea-4d87-bfc8-e4a7b69a52b9",
   "metadata": {},
   "source": [
    "#### 7.10 In the U.S., what is the breakdown percentages by state?\n",
    "\n",
    "Let's add the state abbreviations data courtesy of census.gov:\n",
    "\n",
    "- https://www.census.gov/library/reference/code-lists/ansi.html#state\n",
    "- https://www2.census.gov/geo/docs/reference/state.txt"
   ]
  },
  {
   "cell_type": "code",
   "execution_count": 62,
   "id": "096dceec-7bb4-466f-90e0-e03fa27dbaf3",
   "metadata": {
    "tags": []
   },
   "outputs": [
    {
     "data": {
      "text/html": [
       "<div>\n",
       "<style scoped>\n",
       "    .dataframe tbody tr th:only-of-type {\n",
       "        vertical-align: middle;\n",
       "    }\n",
       "\n",
       "    .dataframe tbody tr th {\n",
       "        vertical-align: top;\n",
       "    }\n",
       "\n",
       "    .dataframe thead th {\n",
       "        text-align: right;\n",
       "    }\n",
       "</style>\n",
       "<table border=\"1\" class=\"dataframe\">\n",
       "  <thead>\n",
       "    <tr style=\"text-align: right;\">\n",
       "      <th></th>\n",
       "      <th>name</th>\n",
       "      <th>type</th>\n",
       "      <th>primary_role</th>\n",
       "      <th>combined_stock_symbols</th>\n",
       "      <th>city</th>\n",
       "      <th>region</th>\n",
       "      <th>country_code</th>\n",
       "      <th>status</th>\n",
       "    </tr>\n",
       "  </thead>\n",
       "  <tbody>\n",
       "    <tr>\n",
       "      <th>8185</th>\n",
       "      <td>Smule</td>\n",
       "      <td>organization</td>\n",
       "      <td>company</td>\n",
       "      <td>NaN</td>\n",
       "      <td>San Francisco</td>\n",
       "      <td>California</td>\n",
       "      <td>USA</td>\n",
       "      <td>private</td>\n",
       "    </tr>\n",
       "    <tr>\n",
       "      <th>2253315</th>\n",
       "      <td>Vera Pax</td>\n",
       "      <td>organization</td>\n",
       "      <td>company</td>\n",
       "      <td>NaN</td>\n",
       "      <td>Sheridan</td>\n",
       "      <td>Wyoming</td>\n",
       "      <td>USA</td>\n",
       "      <td>private</td>\n",
       "    </tr>\n",
       "    <tr>\n",
       "      <th>1677084</th>\n",
       "      <td>PSD Markup</td>\n",
       "      <td>organization</td>\n",
       "      <td>company</td>\n",
       "      <td>NaN</td>\n",
       "      <td>Fresno</td>\n",
       "      <td>California</td>\n",
       "      <td>USA</td>\n",
       "      <td>private</td>\n",
       "    </tr>\n",
       "    <tr>\n",
       "      <th>2414675</th>\n",
       "      <td>ViviPet</td>\n",
       "      <td>organization</td>\n",
       "      <td>company</td>\n",
       "      <td>NaN</td>\n",
       "      <td>Chino</td>\n",
       "      <td>California</td>\n",
       "      <td>USA</td>\n",
       "      <td>private</td>\n",
       "    </tr>\n",
       "    <tr>\n",
       "      <th>2448076</th>\n",
       "      <td>Riggins Law, PC</td>\n",
       "      <td>organization</td>\n",
       "      <td>company</td>\n",
       "      <td>NaN</td>\n",
       "      <td>Pasadena</td>\n",
       "      <td>California</td>\n",
       "      <td>USA</td>\n",
       "      <td>private</td>\n",
       "    </tr>\n",
       "  </tbody>\n",
       "</table>\n",
       "</div>"
      ],
      "text/plain": [
       "                    name          type primary_role combined_stock_symbols  \\\n",
       "8185               Smule  organization      company                    NaN   \n",
       "2253315         Vera Pax  organization      company                    NaN   \n",
       "1677084       PSD Markup  organization      company                    NaN   \n",
       "2414675          ViviPet  organization      company                    NaN   \n",
       "2448076  Riggins Law, PC  organization      company                    NaN   \n",
       "\n",
       "                  city      region country_code   status  \n",
       "8185     San Francisco  California          USA  private  \n",
       "2253315       Sheridan     Wyoming          USA  private  \n",
       "1677084         Fresno  California          USA  private  \n",
       "2414675          Chino  California          USA  private  \n",
       "2448076       Pasadena  California          USA  private  "
      ]
     },
     "execution_count": 62,
     "metadata": {},
     "output_type": "execute_result"
    }
   ],
   "source": [
    "df_usa.sample(5)"
   ]
  },
  {
   "cell_type": "code",
   "execution_count": 63,
   "id": "cd4ea17b-1036-4916-8b14-4e329710754f",
   "metadata": {
    "tags": []
   },
   "outputs": [
    {
     "data": {
      "text/html": [
       "<div>\n",
       "<style scoped>\n",
       "    .dataframe tbody tr th:only-of-type {\n",
       "        vertical-align: middle;\n",
       "    }\n",
       "\n",
       "    .dataframe tbody tr th {\n",
       "        vertical-align: top;\n",
       "    }\n",
       "\n",
       "    .dataframe thead th {\n",
       "        text-align: right;\n",
       "    }\n",
       "</style>\n",
       "<table border=\"1\" class=\"dataframe\">\n",
       "  <thead>\n",
       "    <tr style=\"text-align: right;\">\n",
       "      <th></th>\n",
       "      <th>state</th>\n",
       "      <th>state_name</th>\n",
       "    </tr>\n",
       "  </thead>\n",
       "  <tbody>\n",
       "    <tr>\n",
       "      <th>0</th>\n",
       "      <td>AL</td>\n",
       "      <td>Alabama</td>\n",
       "    </tr>\n",
       "    <tr>\n",
       "      <th>1</th>\n",
       "      <td>AK</td>\n",
       "      <td>Alaska</td>\n",
       "    </tr>\n",
       "    <tr>\n",
       "      <th>2</th>\n",
       "      <td>AZ</td>\n",
       "      <td>Arizona</td>\n",
       "    </tr>\n",
       "    <tr>\n",
       "      <th>3</th>\n",
       "      <td>AR</td>\n",
       "      <td>Arkansas</td>\n",
       "    </tr>\n",
       "    <tr>\n",
       "      <th>4</th>\n",
       "      <td>CA</td>\n",
       "      <td>California</td>\n",
       "    </tr>\n",
       "  </tbody>\n",
       "</table>\n",
       "</div>"
      ],
      "text/plain": [
       "  state  state_name\n",
       "0    AL     Alabama\n",
       "1    AK      Alaska\n",
       "2    AZ     Arizona\n",
       "3    AR    Arkansas\n",
       "4    CA  California"
      ]
     },
     "execution_count": 63,
     "metadata": {},
     "output_type": "execute_result"
    }
   ],
   "source": [
    "df_usa_states = pd.read_csv('https://www2.census.gov/geo/docs/reference/state.txt', sep='|', header=0, names=[\n",
    "    'state_code', 'state', 'state_name', 'gnisid'\n",
    "])\n",
    "\n",
    "# keep only state abbr and state name\n",
    "df_usa_states = df_usa_states[['state', 'state_name']]\n",
    "\n",
    "df_usa_states.head()"
   ]
  },
  {
   "cell_type": "markdown",
   "id": "57ab1899-a172-43e5-8fe7-9fba3572ccac",
   "metadata": {},
   "source": [
    "Let's merge this with the U.S. dataframe:"
   ]
  },
  {
   "cell_type": "code",
   "execution_count": 64,
   "id": "9fa14b7e-ca92-4f57-9eeb-ebe33da6e6a2",
   "metadata": {
    "tags": []
   },
   "outputs": [],
   "source": [
    "df_usa = df_usa.merge(df_usa_states, left_on=['region'], right_on=['state_name'], how='left')"
   ]
  },
  {
   "cell_type": "code",
   "execution_count": 65,
   "id": "b647cdf3-615c-40e2-9040-1ccbe877d25e",
   "metadata": {
    "tags": []
   },
   "outputs": [
    {
     "data": {
      "text/html": [
       "<div>\n",
       "<style scoped>\n",
       "    .dataframe tbody tr th:only-of-type {\n",
       "        vertical-align: middle;\n",
       "    }\n",
       "\n",
       "    .dataframe tbody tr th {\n",
       "        vertical-align: top;\n",
       "    }\n",
       "\n",
       "    .dataframe thead th {\n",
       "        text-align: right;\n",
       "    }\n",
       "</style>\n",
       "<table border=\"1\" class=\"dataframe\">\n",
       "  <thead>\n",
       "    <tr style=\"text-align: right;\">\n",
       "      <th></th>\n",
       "      <th>name</th>\n",
       "      <th>type</th>\n",
       "      <th>primary_role</th>\n",
       "      <th>combined_stock_symbols</th>\n",
       "      <th>city</th>\n",
       "      <th>region</th>\n",
       "      <th>country_code</th>\n",
       "      <th>status</th>\n",
       "      <th>state</th>\n",
       "      <th>state_name</th>\n",
       "    </tr>\n",
       "  </thead>\n",
       "  <tbody>\n",
       "    <tr>\n",
       "      <th>0</th>\n",
       "      <td>Wetpaint</td>\n",
       "      <td>organization</td>\n",
       "      <td>company</td>\n",
       "      <td>NaN</td>\n",
       "      <td>New York</td>\n",
       "      <td>New York</td>\n",
       "      <td>USA</td>\n",
       "      <td>private</td>\n",
       "      <td>NY</td>\n",
       "      <td>New York</td>\n",
       "    </tr>\n",
       "    <tr>\n",
       "      <th>1</th>\n",
       "      <td>Zoho</td>\n",
       "      <td>organization</td>\n",
       "      <td>company</td>\n",
       "      <td>NaN</td>\n",
       "      <td>Pleasanton</td>\n",
       "      <td>California</td>\n",
       "      <td>USA</td>\n",
       "      <td>private</td>\n",
       "      <td>CA</td>\n",
       "      <td>California</td>\n",
       "    </tr>\n",
       "    <tr>\n",
       "      <th>2</th>\n",
       "      <td>Digg</td>\n",
       "      <td>organization</td>\n",
       "      <td>company</td>\n",
       "      <td>NaN</td>\n",
       "      <td>New York</td>\n",
       "      <td>New York</td>\n",
       "      <td>USA</td>\n",
       "      <td>private</td>\n",
       "      <td>NY</td>\n",
       "      <td>New York</td>\n",
       "    </tr>\n",
       "    <tr>\n",
       "      <th>3</th>\n",
       "      <td>Meta</td>\n",
       "      <td>organization</td>\n",
       "      <td>company</td>\n",
       "      <td>nasdaq:META</td>\n",
       "      <td>Menlo Park</td>\n",
       "      <td>California</td>\n",
       "      <td>USA</td>\n",
       "      <td>public</td>\n",
       "      <td>CA</td>\n",
       "      <td>California</td>\n",
       "    </tr>\n",
       "    <tr>\n",
       "      <th>4</th>\n",
       "      <td>Omnidrive</td>\n",
       "      <td>organization</td>\n",
       "      <td>company</td>\n",
       "      <td>NaN</td>\n",
       "      <td>Palo Alto</td>\n",
       "      <td>California</td>\n",
       "      <td>USA</td>\n",
       "      <td>private</td>\n",
       "      <td>CA</td>\n",
       "      <td>California</td>\n",
       "    </tr>\n",
       "  </tbody>\n",
       "</table>\n",
       "</div>"
      ],
      "text/plain": [
       "        name          type primary_role combined_stock_symbols        city  \\\n",
       "0   Wetpaint  organization      company                    NaN    New York   \n",
       "1       Zoho  organization      company                    NaN  Pleasanton   \n",
       "2       Digg  organization      company                    NaN    New York   \n",
       "3       Meta  organization      company            nasdaq:META  Menlo Park   \n",
       "4  Omnidrive  organization      company                    NaN   Palo Alto   \n",
       "\n",
       "       region country_code   status state  state_name  \n",
       "0    New York          USA  private    NY    New York  \n",
       "1  California          USA  private    CA  California  \n",
       "2    New York          USA  private    NY    New York  \n",
       "3  California          USA   public    CA  California  \n",
       "4  California          USA  private    CA  California  "
      ]
     },
     "execution_count": 65,
     "metadata": {},
     "output_type": "execute_result"
    }
   ],
   "source": [
    "df_usa.head()"
   ]
  },
  {
   "cell_type": "code",
   "execution_count": 66,
   "id": "5fb011ef-b25d-4422-b54b-978c64240d43",
   "metadata": {
    "tags": []
   },
   "outputs": [
    {
     "data": {
      "text/html": [
       "<div>\n",
       "<style scoped>\n",
       "    .dataframe tbody tr th:only-of-type {\n",
       "        vertical-align: middle;\n",
       "    }\n",
       "\n",
       "    .dataframe tbody tr th {\n",
       "        vertical-align: top;\n",
       "    }\n",
       "\n",
       "    .dataframe thead th {\n",
       "        text-align: right;\n",
       "    }\n",
       "</style>\n",
       "<table border=\"1\" class=\"dataframe\">\n",
       "  <thead>\n",
       "    <tr style=\"text-align: right;\">\n",
       "      <th></th>\n",
       "      <th>name</th>\n",
       "      <th>type</th>\n",
       "      <th>primary_role</th>\n",
       "      <th>combined_stock_symbols</th>\n",
       "      <th>city</th>\n",
       "      <th>country_code</th>\n",
       "      <th>status</th>\n",
       "      <th>state</th>\n",
       "      <th>state_name</th>\n",
       "    </tr>\n",
       "  </thead>\n",
       "  <tbody>\n",
       "    <tr>\n",
       "      <th>0</th>\n",
       "      <td>Wetpaint</td>\n",
       "      <td>organization</td>\n",
       "      <td>company</td>\n",
       "      <td>NaN</td>\n",
       "      <td>New York</td>\n",
       "      <td>USA</td>\n",
       "      <td>private</td>\n",
       "      <td>NY</td>\n",
       "      <td>New York</td>\n",
       "    </tr>\n",
       "    <tr>\n",
       "      <th>1</th>\n",
       "      <td>Zoho</td>\n",
       "      <td>organization</td>\n",
       "      <td>company</td>\n",
       "      <td>NaN</td>\n",
       "      <td>Pleasanton</td>\n",
       "      <td>USA</td>\n",
       "      <td>private</td>\n",
       "      <td>CA</td>\n",
       "      <td>California</td>\n",
       "    </tr>\n",
       "    <tr>\n",
       "      <th>2</th>\n",
       "      <td>Digg</td>\n",
       "      <td>organization</td>\n",
       "      <td>company</td>\n",
       "      <td>NaN</td>\n",
       "      <td>New York</td>\n",
       "      <td>USA</td>\n",
       "      <td>private</td>\n",
       "      <td>NY</td>\n",
       "      <td>New York</td>\n",
       "    </tr>\n",
       "    <tr>\n",
       "      <th>3</th>\n",
       "      <td>Meta</td>\n",
       "      <td>organization</td>\n",
       "      <td>company</td>\n",
       "      <td>nasdaq:META</td>\n",
       "      <td>Menlo Park</td>\n",
       "      <td>USA</td>\n",
       "      <td>public</td>\n",
       "      <td>CA</td>\n",
       "      <td>California</td>\n",
       "    </tr>\n",
       "    <tr>\n",
       "      <th>4</th>\n",
       "      <td>Omnidrive</td>\n",
       "      <td>organization</td>\n",
       "      <td>company</td>\n",
       "      <td>NaN</td>\n",
       "      <td>Palo Alto</td>\n",
       "      <td>USA</td>\n",
       "      <td>private</td>\n",
       "      <td>CA</td>\n",
       "      <td>California</td>\n",
       "    </tr>\n",
       "  </tbody>\n",
       "</table>\n",
       "</div>"
      ],
      "text/plain": [
       "        name          type primary_role combined_stock_symbols        city  \\\n",
       "0   Wetpaint  organization      company                    NaN    New York   \n",
       "1       Zoho  organization      company                    NaN  Pleasanton   \n",
       "2       Digg  organization      company                    NaN    New York   \n",
       "3       Meta  organization      company            nasdaq:META  Menlo Park   \n",
       "4  Omnidrive  organization      company                    NaN   Palo Alto   \n",
       "\n",
       "  country_code   status state  state_name  \n",
       "0          USA  private    NY    New York  \n",
       "1          USA  private    CA  California  \n",
       "2          USA  private    NY    New York  \n",
       "3          USA   public    CA  California  \n",
       "4          USA  private    CA  California  "
      ]
     },
     "execution_count": 66,
     "metadata": {},
     "output_type": "execute_result"
    }
   ],
   "source": [
    "# drop 'region' column\n",
    "df_usa = df_usa.drop(columns='region')\n",
    "\n",
    "df_usa.head()"
   ]
  },
  {
   "cell_type": "code",
   "execution_count": 67,
   "id": "4d8809cc-9907-4390-84d3-36b736e693e9",
   "metadata": {
    "tags": []
   },
   "outputs": [
    {
     "data": {
      "text/html": [
       "<div>\n",
       "<style scoped>\n",
       "    .dataframe tbody tr th:only-of-type {\n",
       "        vertical-align: middle;\n",
       "    }\n",
       "\n",
       "    .dataframe tbody tr th {\n",
       "        vertical-align: top;\n",
       "    }\n",
       "\n",
       "    .dataframe thead th {\n",
       "        text-align: right;\n",
       "    }\n",
       "</style>\n",
       "<table border=\"1\" class=\"dataframe\">\n",
       "  <thead>\n",
       "    <tr style=\"text-align: right;\">\n",
       "      <th></th>\n",
       "      <th>state</th>\n",
       "      <th>state_name</th>\n",
       "      <th>num_of_companies</th>\n",
       "      <th>%</th>\n",
       "    </tr>\n",
       "  </thead>\n",
       "  <tbody>\n",
       "    <tr>\n",
       "      <th>0</th>\n",
       "      <td>CA</td>\n",
       "      <td>California</td>\n",
       "      <td>207439</td>\n",
       "      <td>18.34</td>\n",
       "    </tr>\n",
       "    <tr>\n",
       "      <th>1</th>\n",
       "      <td>NY</td>\n",
       "      <td>New York</td>\n",
       "      <td>95323</td>\n",
       "      <td>8.43</td>\n",
       "    </tr>\n",
       "    <tr>\n",
       "      <th>2</th>\n",
       "      <td>TX</td>\n",
       "      <td>Texas</td>\n",
       "      <td>87026</td>\n",
       "      <td>7.69</td>\n",
       "    </tr>\n",
       "    <tr>\n",
       "      <th>3</th>\n",
       "      <td>FL</td>\n",
       "      <td>Florida</td>\n",
       "      <td>77057</td>\n",
       "      <td>6.81</td>\n",
       "    </tr>\n",
       "    <tr>\n",
       "      <th>4</th>\n",
       "      <td>IL</td>\n",
       "      <td>Illinois</td>\n",
       "      <td>47038</td>\n",
       "      <td>4.16</td>\n",
       "    </tr>\n",
       "    <tr>\n",
       "      <th>5</th>\n",
       "      <td>MA</td>\n",
       "      <td>Massachusetts</td>\n",
       "      <td>37950</td>\n",
       "      <td>3.36</td>\n",
       "    </tr>\n",
       "    <tr>\n",
       "      <th>6</th>\n",
       "      <td>PA</td>\n",
       "      <td>Pennsylvania</td>\n",
       "      <td>37115</td>\n",
       "      <td>3.28</td>\n",
       "    </tr>\n",
       "    <tr>\n",
       "      <th>7</th>\n",
       "      <td>GA</td>\n",
       "      <td>Georgia</td>\n",
       "      <td>32683</td>\n",
       "      <td>2.89</td>\n",
       "    </tr>\n",
       "    <tr>\n",
       "      <th>8</th>\n",
       "      <td>NJ</td>\n",
       "      <td>New Jersey</td>\n",
       "      <td>31982</td>\n",
       "      <td>2.83</td>\n",
       "    </tr>\n",
       "    <tr>\n",
       "      <th>9</th>\n",
       "      <td>OH</td>\n",
       "      <td>Ohio</td>\n",
       "      <td>31595</td>\n",
       "      <td>2.79</td>\n",
       "    </tr>\n",
       "  </tbody>\n",
       "</table>\n",
       "</div>"
      ],
      "text/plain": [
       "  state     state_name  num_of_companies      %\n",
       "0    CA     California            207439  18.34\n",
       "1    NY       New York             95323   8.43\n",
       "2    TX          Texas             87026   7.69\n",
       "3    FL        Florida             77057   6.81\n",
       "4    IL       Illinois             47038   4.16\n",
       "5    MA  Massachusetts             37950   3.36\n",
       "6    PA   Pennsylvania             37115   3.28\n",
       "7    GA        Georgia             32683   2.89\n",
       "8    NJ     New Jersey             31982   2.83\n",
       "9    OH           Ohio             31595   2.79"
      ]
     },
     "execution_count": 67,
     "metadata": {},
     "output_type": "execute_result"
    }
   ],
   "source": [
    "df_usa_state_count = df_usa[['state', 'state_name']].value_counts().to_frame(name='num_of_companies').reset_index()\n",
    "\n",
    "df_usa_state_count['%'] = round( df_usa_state_count['num_of_companies'] / df_usa_state_count['num_of_companies'].sum() * 100, 2 )\n",
    "\n",
    "df_usa_state_count.head(10)"
   ]
  },
  {
   "cell_type": "code",
   "execution_count": 68,
   "id": "26e0b4fc-8fd1-4553-b75d-3cac78dba7e5",
   "metadata": {
    "tags": []
   },
   "outputs": [
    {
     "data": {
      "image/png": "[encoded data removed]"
     },
     "metadata": {},
     "output_type": "display_data"
    }
   ],
   "source": [
    "fig = px.bar(df_usa_state_count.head(20).sort_values('num_of_companies', ascending=True), x='num_of_companies', y='state_name',\n",
    "             orientation='h',\n",
    "             labels={'state_name': 'State', 'num_of_companies': 'Number of Companies'},\n",
    "             title='Top 20 states with the most companies')\n",
    "\n",
    "show_fig()"
   ]
  },
  {
   "cell_type": "code",
   "execution_count": 69,
   "id": "ec297ff8-be82-4284-ad0e-a492bf50b425",
   "metadata": {
    "tags": []
   },
   "outputs": [
    {
     "data": {
      "image/png": "[encoded data removed]"
     },
     "metadata": {},
     "output_type": "display_data"
    }
   ],
   "source": [
    "fig = px.choropleth(df_usa_state_count,\n",
    "                    locations='state', \n",
    "                    locationmode='USA-states',\n",
    "                    scope='usa',\n",
    "                    color='num_of_companies',\n",
    "                    color_continuous_scale='matter',\n",
    "                    title='Number of U.S. companies by state',\n",
    "                    labels={'state': 'State', 'num_of_companies': 'Number of Companies'},\n",
    "                    hover_name='state_name'\n",
    "                   )\n",
    "\n",
    "show_fig()"
   ]
  },
  {
   "cell_type": "markdown",
   "id": "c6a669cb-1930-4b57-ae1f-521044b814cc",
   "metadata": {
    "tags": []
   },
   "source": [
    "#### 7.11 In the U.S., what is the breakdown percentages by city?"
   ]
  },
  {
   "cell_type": "code",
   "execution_count": 70,
   "id": "441396ac-b8dd-4544-a9b5-8aeed7650f15",
   "metadata": {
    "tags": []
   },
   "outputs": [
    {
     "data": {
      "text/html": [
       "<div>\n",
       "<style scoped>\n",
       "    .dataframe tbody tr th:only-of-type {\n",
       "        vertical-align: middle;\n",
       "    }\n",
       "\n",
       "    .dataframe tbody tr th {\n",
       "        vertical-align: top;\n",
       "    }\n",
       "\n",
       "    .dataframe thead th {\n",
       "        text-align: right;\n",
       "    }\n",
       "</style>\n",
       "<table border=\"1\" class=\"dataframe\">\n",
       "  <thead>\n",
       "    <tr style=\"text-align: right;\">\n",
       "      <th></th>\n",
       "      <th>city</th>\n",
       "      <th>state</th>\n",
       "      <th>num_of_companies</th>\n",
       "      <th>%</th>\n",
       "    </tr>\n",
       "  </thead>\n",
       "  <tbody>\n",
       "    <tr>\n",
       "      <th>0</th>\n",
       "      <td>New York</td>\n",
       "      <td>NY</td>\n",
       "      <td>49347</td>\n",
       "      <td>4.36</td>\n",
       "    </tr>\n",
       "    <tr>\n",
       "      <th>1</th>\n",
       "      <td>San Francisco</td>\n",
       "      <td>CA</td>\n",
       "      <td>26597</td>\n",
       "      <td>2.35</td>\n",
       "    </tr>\n",
       "    <tr>\n",
       "      <th>2</th>\n",
       "      <td>Los Angeles</td>\n",
       "      <td>CA</td>\n",
       "      <td>20634</td>\n",
       "      <td>1.82</td>\n",
       "    </tr>\n",
       "    <tr>\n",
       "      <th>3</th>\n",
       "      <td>Chicago</td>\n",
       "      <td>IL</td>\n",
       "      <td>17010</td>\n",
       "      <td>1.50</td>\n",
       "    </tr>\n",
       "    <tr>\n",
       "      <th>4</th>\n",
       "      <td>Houston</td>\n",
       "      <td>TX</td>\n",
       "      <td>16047</td>\n",
       "      <td>1.42</td>\n",
       "    </tr>\n",
       "    <tr>\n",
       "      <th>5</th>\n",
       "      <td>Austin</td>\n",
       "      <td>TX</td>\n",
       "      <td>12990</td>\n",
       "      <td>1.15</td>\n",
       "    </tr>\n",
       "    <tr>\n",
       "      <th>6</th>\n",
       "      <td>San Diego</td>\n",
       "      <td>CA</td>\n",
       "      <td>11663</td>\n",
       "      <td>1.03</td>\n",
       "    </tr>\n",
       "    <tr>\n",
       "      <th>7</th>\n",
       "      <td>Atlanta</td>\n",
       "      <td>GA</td>\n",
       "      <td>11625</td>\n",
       "      <td>1.03</td>\n",
       "    </tr>\n",
       "    <tr>\n",
       "      <th>8</th>\n",
       "      <td>Dallas</td>\n",
       "      <td>TX</td>\n",
       "      <td>10889</td>\n",
       "      <td>0.96</td>\n",
       "    </tr>\n",
       "    <tr>\n",
       "      <th>9</th>\n",
       "      <td>Miami</td>\n",
       "      <td>FL</td>\n",
       "      <td>10742</td>\n",
       "      <td>0.95</td>\n",
       "    </tr>\n",
       "  </tbody>\n",
       "</table>\n",
       "</div>"
      ],
      "text/plain": [
       "            city state  num_of_companies     %\n",
       "0       New York    NY             49347  4.36\n",
       "1  San Francisco    CA             26597  2.35\n",
       "2    Los Angeles    CA             20634  1.82\n",
       "3        Chicago    IL             17010  1.50\n",
       "4        Houston    TX             16047  1.42\n",
       "5         Austin    TX             12990  1.15\n",
       "6      San Diego    CA             11663  1.03\n",
       "7        Atlanta    GA             11625  1.03\n",
       "8         Dallas    TX             10889  0.96\n",
       "9          Miami    FL             10742  0.95"
      ]
     },
     "execution_count": 70,
     "metadata": {},
     "output_type": "execute_result"
    }
   ],
   "source": [
    "df_usa_city_count = df_usa[['city', 'state']].value_counts().to_frame(name='num_of_companies').reset_index()\n",
    "\n",
    "df_usa_city_count['%'] = round( df_usa_city_count['num_of_companies'] / df_usa_city_count['num_of_companies'].sum() * 100, 2 )\n",
    "\n",
    "df_usa_city_count.head(10)"
   ]
  },
  {
   "cell_type": "code",
   "execution_count": 71,
   "id": "51b087b6-4b38-45af-b3ec-c66545027d48",
   "metadata": {
    "tags": []
   },
   "outputs": [
    {
     "data": {
      "image/png": "[encoded data removed]"
     },
     "metadata": {},
     "output_type": "display_data"
    }
   ],
   "source": [
    "fig = px.bar(df_usa_city_count.head(20).sort_values('num_of_companies', ascending=True), x='num_of_companies', y='city',\n",
    "             orientation='h',\n",
    "             labels={'city': 'City', 'num_of_companies': 'Number of Companies'},\n",
    "             title='Top 20 cities with the most companies')\n",
    "\n",
    "show_fig()"
   ]
  },
  {
   "cell_type": "markdown",
   "id": "aa3068bc-829c-4811-882d-0645c2f8613f",
   "metadata": {},
   "source": [
    "Let's add the city lat/long coordinates to plot the cities as a bubble map:\n",
    "\n",
    "[simplemaps](https://simplemaps.com/data/us-cities) provides a U.S. cities database with this data; the Basic version will do."
   ]
  },
  {
   "cell_type": "code",
   "execution_count": 72,
   "id": "69d8964a-6089-453d-a88a-6a1c785c8af9",
   "metadata": {
    "tags": []
   },
   "outputs": [
    {
     "data": {
      "text/plain": [
       "4218789"
      ]
     },
     "execution_count": 72,
     "metadata": {},
     "output_type": "execute_result"
    }
   ],
   "source": [
    "# download the zip file\n",
    "url = 'https://simplemaps.com/static/data/us-cities/1.76/basic/simplemaps_uscities_basicv1.76.zip'\n",
    "\n",
    "response = requests.get(url)\n",
    "\n",
    "open('data/simplemaps_uscities.zip', 'wb').write(response.content)"
   ]
  },
  {
   "cell_type": "code",
   "execution_count": 73,
   "id": "f606f9bd-2c8d-4865-8101-113143922b12",
   "metadata": {
    "tags": []
   },
   "outputs": [
    {
     "name": "stdout",
     "output_type": "stream",
     "text": [
      "Archive:  data/simplemaps_uscities.zip\n",
      "  inflating: data/license.txt        \n",
      "  inflating: data/uscities.csv       \n",
      "  inflating: data/uscities.xlsx      \n"
     ]
    }
   ],
   "source": [
    "# unzip the file\n",
    "!unzip data/simplemaps_uscities.zip -d data"
   ]
  },
  {
   "cell_type": "code",
   "execution_count": 74,
   "id": "dc674073-6343-4921-9a79-771508a30bf9",
   "metadata": {
    "tags": []
   },
   "outputs": [
    {
     "name": "stdout",
     "output_type": "stream",
     "text": [
      "data:\n",
      "crunchbase.tar.gz\n",
      "organizations.csv\n",
      "uscities.csv\n"
     ]
    }
   ],
   "source": [
    "# remove some files\n",
    "!rm data/simplemaps_uscities.zip data/license.txt data/uscities.xlsx\n",
    "!ls -R1 data"
   ]
  },
  {
   "cell_type": "code",
   "execution_count": 75,
   "id": "53e509cc-e08b-44bf-92a9-9a181fdd2ba1",
   "metadata": {
    "tags": []
   },
   "outputs": [
    {
     "data": {
      "text/html": [
       "<div>\n",
       "<style scoped>\n",
       "    .dataframe tbody tr th:only-of-type {\n",
       "        vertical-align: middle;\n",
       "    }\n",
       "\n",
       "    .dataframe tbody tr th {\n",
       "        vertical-align: top;\n",
       "    }\n",
       "\n",
       "    .dataframe thead th {\n",
       "        text-align: right;\n",
       "    }\n",
       "</style>\n",
       "<table border=\"1\" class=\"dataframe\">\n",
       "  <thead>\n",
       "    <tr style=\"text-align: right;\">\n",
       "      <th></th>\n",
       "      <th>city</th>\n",
       "      <th>state_id</th>\n",
       "      <th>lat</th>\n",
       "      <th>lng</th>\n",
       "    </tr>\n",
       "  </thead>\n",
       "  <tbody>\n",
       "    <tr>\n",
       "      <th>0</th>\n",
       "      <td>New York</td>\n",
       "      <td>NY</td>\n",
       "      <td>40.6943</td>\n",
       "      <td>-73.9249</td>\n",
       "    </tr>\n",
       "    <tr>\n",
       "      <th>1</th>\n",
       "      <td>Los Angeles</td>\n",
       "      <td>CA</td>\n",
       "      <td>34.1141</td>\n",
       "      <td>-118.4068</td>\n",
       "    </tr>\n",
       "    <tr>\n",
       "      <th>2</th>\n",
       "      <td>Chicago</td>\n",
       "      <td>IL</td>\n",
       "      <td>41.8375</td>\n",
       "      <td>-87.6866</td>\n",
       "    </tr>\n",
       "    <tr>\n",
       "      <th>3</th>\n",
       "      <td>Miami</td>\n",
       "      <td>FL</td>\n",
       "      <td>25.7840</td>\n",
       "      <td>-80.2101</td>\n",
       "    </tr>\n",
       "    <tr>\n",
       "      <th>4</th>\n",
       "      <td>Dallas</td>\n",
       "      <td>TX</td>\n",
       "      <td>32.7935</td>\n",
       "      <td>-96.7667</td>\n",
       "    </tr>\n",
       "  </tbody>\n",
       "</table>\n",
       "</div>"
      ],
      "text/plain": [
       "          city state_id      lat       lng\n",
       "0     New York       NY  40.6943  -73.9249\n",
       "1  Los Angeles       CA  34.1141 -118.4068\n",
       "2      Chicago       IL  41.8375  -87.6866\n",
       "3        Miami       FL  25.7840  -80.2101\n",
       "4       Dallas       TX  32.7935  -96.7667"
      ]
     },
     "execution_count": 75,
     "metadata": {},
     "output_type": "execute_result"
    }
   ],
   "source": [
    "# cities with lat/long coords\n",
    "df_usa_cities_db = pd.read_csv('data/uscities.csv', usecols=['city', 'state_id', 'lat', 'lng'])\n",
    "\n",
    "df_usa_cities_db.head()"
   ]
  },
  {
   "cell_type": "code",
   "execution_count": 76,
   "id": "ec6eeb36-021b-4819-84fd-91790bef1be2",
   "metadata": {
    "tags": []
   },
   "outputs": [
    {
     "data": {
      "text/html": [
       "<div>\n",
       "<style scoped>\n",
       "    .dataframe tbody tr th:only-of-type {\n",
       "        vertical-align: middle;\n",
       "    }\n",
       "\n",
       "    .dataframe tbody tr th {\n",
       "        vertical-align: top;\n",
       "    }\n",
       "\n",
       "    .dataframe thead th {\n",
       "        text-align: right;\n",
       "    }\n",
       "</style>\n",
       "<table border=\"1\" class=\"dataframe\">\n",
       "  <thead>\n",
       "    <tr style=\"text-align: right;\">\n",
       "      <th></th>\n",
       "      <th>city</th>\n",
       "      <th>state</th>\n",
       "      <th>lat</th>\n",
       "      <th>lng</th>\n",
       "    </tr>\n",
       "  </thead>\n",
       "  <tbody>\n",
       "    <tr>\n",
       "      <th>0</th>\n",
       "      <td>New York</td>\n",
       "      <td>NY</td>\n",
       "      <td>40.6943</td>\n",
       "      <td>-73.9249</td>\n",
       "    </tr>\n",
       "    <tr>\n",
       "      <th>1</th>\n",
       "      <td>Los Angeles</td>\n",
       "      <td>CA</td>\n",
       "      <td>34.1141</td>\n",
       "      <td>-118.4068</td>\n",
       "    </tr>\n",
       "    <tr>\n",
       "      <th>2</th>\n",
       "      <td>Chicago</td>\n",
       "      <td>IL</td>\n",
       "      <td>41.8375</td>\n",
       "      <td>-87.6866</td>\n",
       "    </tr>\n",
       "    <tr>\n",
       "      <th>3</th>\n",
       "      <td>Miami</td>\n",
       "      <td>FL</td>\n",
       "      <td>25.7840</td>\n",
       "      <td>-80.2101</td>\n",
       "    </tr>\n",
       "    <tr>\n",
       "      <th>4</th>\n",
       "      <td>Dallas</td>\n",
       "      <td>TX</td>\n",
       "      <td>32.7935</td>\n",
       "      <td>-96.7667</td>\n",
       "    </tr>\n",
       "  </tbody>\n",
       "</table>\n",
       "</div>"
      ],
      "text/plain": [
       "          city state      lat       lng\n",
       "0     New York    NY  40.6943  -73.9249\n",
       "1  Los Angeles    CA  34.1141 -118.4068\n",
       "2      Chicago    IL  41.8375  -87.6866\n",
       "3        Miami    FL  25.7840  -80.2101\n",
       "4       Dallas    TX  32.7935  -96.7667"
      ]
     },
     "execution_count": 76,
     "metadata": {},
     "output_type": "execute_result"
    }
   ],
   "source": [
    "# rename column\n",
    "df_usa_cities_db.rename(columns={'state_id': 'state'}, inplace=True)\n",
    "\n",
    "df_usa_cities_db.head()"
   ]
  },
  {
   "cell_type": "markdown",
   "id": "5feaa299-1190-476e-9920-b8eb3705efdf",
   "metadata": {},
   "source": [
    "Let's create a dataframe of the top 100 cities:"
   ]
  },
  {
   "cell_type": "code",
   "execution_count": 77,
   "id": "1048e44b-f013-47db-a3e3-740e030d80a0",
   "metadata": {
    "tags": []
   },
   "outputs": [
    {
     "data": {
      "text/html": [
       "<div>\n",
       "<style scoped>\n",
       "    .dataframe tbody tr th:only-of-type {\n",
       "        vertical-align: middle;\n",
       "    }\n",
       "\n",
       "    .dataframe tbody tr th {\n",
       "        vertical-align: top;\n",
       "    }\n",
       "\n",
       "    .dataframe thead th {\n",
       "        text-align: right;\n",
       "    }\n",
       "</style>\n",
       "<table border=\"1\" class=\"dataframe\">\n",
       "  <thead>\n",
       "    <tr style=\"text-align: right;\">\n",
       "      <th></th>\n",
       "      <th>city</th>\n",
       "      <th>state</th>\n",
       "      <th>num_of_companies</th>\n",
       "    </tr>\n",
       "  </thead>\n",
       "  <tbody>\n",
       "    <tr>\n",
       "      <th>0</th>\n",
       "      <td>New York</td>\n",
       "      <td>NY</td>\n",
       "      <td>49347</td>\n",
       "    </tr>\n",
       "    <tr>\n",
       "      <th>1</th>\n",
       "      <td>San Francisco</td>\n",
       "      <td>CA</td>\n",
       "      <td>26597</td>\n",
       "    </tr>\n",
       "    <tr>\n",
       "      <th>2</th>\n",
       "      <td>Los Angeles</td>\n",
       "      <td>CA</td>\n",
       "      <td>20634</td>\n",
       "    </tr>\n",
       "    <tr>\n",
       "      <th>3</th>\n",
       "      <td>Chicago</td>\n",
       "      <td>IL</td>\n",
       "      <td>17010</td>\n",
       "    </tr>\n",
       "    <tr>\n",
       "      <th>4</th>\n",
       "      <td>Houston</td>\n",
       "      <td>TX</td>\n",
       "      <td>16047</td>\n",
       "    </tr>\n",
       "  </tbody>\n",
       "</table>\n",
       "</div>"
      ],
      "text/plain": [
       "            city state  num_of_companies\n",
       "0       New York    NY             49347\n",
       "1  San Francisco    CA             26597\n",
       "2    Los Angeles    CA             20634\n",
       "3        Chicago    IL             17010\n",
       "4        Houston    TX             16047"
      ]
     },
     "execution_count": 77,
     "metadata": {},
     "output_type": "execute_result"
    }
   ],
   "source": [
    "# top 100 cities with most companies\n",
    "df_usa_cities_top_100 = df_usa[['city', 'state']].value_counts().to_frame(name='num_of_companies').reset_index().head(100)\n",
    "\n",
    "df_usa_cities_top_100.head()"
   ]
  },
  {
   "cell_type": "markdown",
   "id": "c12ef677-9b9e-4dd6-8133-32aec50ff4d7",
   "metadata": {},
   "source": [
    "Now let's merge `df_usa_cities_db` with it so we'll have the cities' lat/long coordinates:"
   ]
  },
  {
   "cell_type": "code",
   "execution_count": 78,
   "id": "5a132b92-704f-4a05-9355-d50561ced17c",
   "metadata": {
    "tags": []
   },
   "outputs": [],
   "source": [
    "df_usa_cities_top_100 = df_usa_cities_top_100.merge(df_usa_cities_db, on=['city', 'state'], how='left')"
   ]
  },
  {
   "cell_type": "code",
   "execution_count": 79,
   "id": "5ab3fe72-ec79-4b09-82b4-3b394174e077",
   "metadata": {
    "tags": []
   },
   "outputs": [
    {
     "data": {
      "text/html": [
       "<div>\n",
       "<style scoped>\n",
       "    .dataframe tbody tr th:only-of-type {\n",
       "        vertical-align: middle;\n",
       "    }\n",
       "\n",
       "    .dataframe tbody tr th {\n",
       "        vertical-align: top;\n",
       "    }\n",
       "\n",
       "    .dataframe thead th {\n",
       "        text-align: right;\n",
       "    }\n",
       "</style>\n",
       "<table border=\"1\" class=\"dataframe\">\n",
       "  <thead>\n",
       "    <tr style=\"text-align: right;\">\n",
       "      <th></th>\n",
       "      <th>city</th>\n",
       "      <th>state</th>\n",
       "      <th>num_of_companies</th>\n",
       "      <th>lat</th>\n",
       "      <th>lng</th>\n",
       "    </tr>\n",
       "  </thead>\n",
       "  <tbody>\n",
       "    <tr>\n",
       "      <th>0</th>\n",
       "      <td>New York</td>\n",
       "      <td>NY</td>\n",
       "      <td>49347</td>\n",
       "      <td>40.6943</td>\n",
       "      <td>-73.9249</td>\n",
       "    </tr>\n",
       "    <tr>\n",
       "      <th>1</th>\n",
       "      <td>San Francisco</td>\n",
       "      <td>CA</td>\n",
       "      <td>26597</td>\n",
       "      <td>37.7558</td>\n",
       "      <td>-122.4449</td>\n",
       "    </tr>\n",
       "    <tr>\n",
       "      <th>2</th>\n",
       "      <td>Los Angeles</td>\n",
       "      <td>CA</td>\n",
       "      <td>20634</td>\n",
       "      <td>34.1141</td>\n",
       "      <td>-118.4068</td>\n",
       "    </tr>\n",
       "    <tr>\n",
       "      <th>3</th>\n",
       "      <td>Chicago</td>\n",
       "      <td>IL</td>\n",
       "      <td>17010</td>\n",
       "      <td>41.8375</td>\n",
       "      <td>-87.6866</td>\n",
       "    </tr>\n",
       "    <tr>\n",
       "      <th>4</th>\n",
       "      <td>Houston</td>\n",
       "      <td>TX</td>\n",
       "      <td>16047</td>\n",
       "      <td>29.7860</td>\n",
       "      <td>-95.3885</td>\n",
       "    </tr>\n",
       "  </tbody>\n",
       "</table>\n",
       "</div>"
      ],
      "text/plain": [
       "            city state  num_of_companies      lat       lng\n",
       "0       New York    NY             49347  40.6943  -73.9249\n",
       "1  San Francisco    CA             26597  37.7558 -122.4449\n",
       "2    Los Angeles    CA             20634  34.1141 -118.4068\n",
       "3        Chicago    IL             17010  41.8375  -87.6866\n",
       "4        Houston    TX             16047  29.7860  -95.3885"
      ]
     },
     "execution_count": 79,
     "metadata": {},
     "output_type": "execute_result"
    }
   ],
   "source": [
    "df_usa_cities_top_100.head()"
   ]
  },
  {
   "cell_type": "code",
   "execution_count": 80,
   "id": "a08f286a-c338-40cf-ae50-d99afec0984f",
   "metadata": {
    "tags": []
   },
   "outputs": [
    {
     "data": {
      "text/plain": [
       "city                0\n",
       "state               0\n",
       "num_of_companies    0\n",
       "lat                 2\n",
       "lng                 2\n",
       "dtype: int64"
      ]
     },
     "execution_count": 80,
     "metadata": {},
     "output_type": "execute_result"
    }
   ],
   "source": [
    "# check if there are any NaN values\n",
    "df_usa_cities_top_100.isna().sum()"
   ]
  },
  {
   "cell_type": "code",
   "execution_count": 81,
   "id": "c5f60902-670d-4574-ad29-58d46bd6d7b0",
   "metadata": {
    "tags": []
   },
   "outputs": [
    {
     "data": {
      "text/html": [
       "<div>\n",
       "<style scoped>\n",
       "    .dataframe tbody tr th:only-of-type {\n",
       "        vertical-align: middle;\n",
       "    }\n",
       "\n",
       "    .dataframe tbody tr th {\n",
       "        vertical-align: top;\n",
       "    }\n",
       "\n",
       "    .dataframe thead th {\n",
       "        text-align: right;\n",
       "    }\n",
       "</style>\n",
       "<table border=\"1\" class=\"dataframe\">\n",
       "  <thead>\n",
       "    <tr style=\"text-align: right;\">\n",
       "      <th></th>\n",
       "      <th>city</th>\n",
       "      <th>state</th>\n",
       "      <th>num_of_companies</th>\n",
       "      <th>lat</th>\n",
       "      <th>lng</th>\n",
       "    </tr>\n",
       "  </thead>\n",
       "  <tbody>\n",
       "    <tr>\n",
       "      <th>30</th>\n",
       "      <td>St Louis</td>\n",
       "      <td>MO</td>\n",
       "      <td>3833</td>\n",
       "      <td>NaN</td>\n",
       "      <td>NaN</td>\n",
       "    </tr>\n",
       "    <tr>\n",
       "      <th>75</th>\n",
       "      <td>Saint Paul</td>\n",
       "      <td>MN</td>\n",
       "      <td>1810</td>\n",
       "      <td>NaN</td>\n",
       "      <td>NaN</td>\n",
       "    </tr>\n",
       "  </tbody>\n",
       "</table>\n",
       "</div>"
      ],
      "text/plain": [
       "          city state  num_of_companies  lat  lng\n",
       "30    St Louis    MO              3833  NaN  NaN\n",
       "75  Saint Paul    MN              1810  NaN  NaN"
      ]
     },
     "execution_count": 81,
     "metadata": {},
     "output_type": "execute_result"
    }
   ],
   "source": [
    "# 2 cities did not join, let's see what those 2 cities are:\n",
    "df_usa_cities_top_100[df_usa_cities_top_100['lat'].isna()]"
   ]
  },
  {
   "cell_type": "markdown",
   "id": "f856916f-7842-4fc8-97d9-e7d06ac6b022",
   "metadata": {},
   "source": [
    "The 2 cities are `St Louis, MO` and `Saint Paul, MN`.\n",
    "\n",
    "From the `df_usa_cities_db` df, let's see why those 2 cities didn't join:"
   ]
  },
  {
   "cell_type": "code",
   "execution_count": 82,
   "id": "46a523d6-d19f-4e2f-82ac-6b0071f70698",
   "metadata": {
    "tags": []
   },
   "outputs": [
    {
     "data": {
      "text/html": [
       "<div>\n",
       "<style scoped>\n",
       "    .dataframe tbody tr th:only-of-type {\n",
       "        vertical-align: middle;\n",
       "    }\n",
       "\n",
       "    .dataframe tbody tr th {\n",
       "        vertical-align: top;\n",
       "    }\n",
       "\n",
       "    .dataframe thead th {\n",
       "        text-align: right;\n",
       "    }\n",
       "</style>\n",
       "<table border=\"1\" class=\"dataframe\">\n",
       "  <thead>\n",
       "    <tr style=\"text-align: right;\">\n",
       "      <th></th>\n",
       "      <th>city</th>\n",
       "      <th>state</th>\n",
       "      <th>lat</th>\n",
       "      <th>lng</th>\n",
       "    </tr>\n",
       "  </thead>\n",
       "  <tbody>\n",
       "    <tr>\n",
       "      <th>22</th>\n",
       "      <td>St. Louis</td>\n",
       "      <td>MO</td>\n",
       "      <td>38.6359</td>\n",
       "      <td>-90.2451</td>\n",
       "    </tr>\n",
       "    <tr>\n",
       "      <th>2662</th>\n",
       "      <td>Lake St. Louis</td>\n",
       "      <td>MO</td>\n",
       "      <td>38.7846</td>\n",
       "      <td>-90.7886</td>\n",
       "    </tr>\n",
       "  </tbody>\n",
       "</table>\n",
       "</div>"
      ],
      "text/plain": [
       "                city state      lat      lng\n",
       "22         St. Louis    MO  38.6359 -90.2451\n",
       "2662  Lake St. Louis    MO  38.7846 -90.7886"
      ]
     },
     "execution_count": 82,
     "metadata": {},
     "output_type": "execute_result"
    }
   ],
   "source": [
    "df_usa_cities_db[ (df_usa_cities_db.city.str.contains(' Louis')) & (df_usa_cities_db.state.str.contains('MO')) ]"
   ]
  },
  {
   "cell_type": "code",
   "execution_count": 83,
   "id": "3260d1aa-1adb-438d-b403-f9b5f41907ec",
   "metadata": {
    "tags": []
   },
   "outputs": [
    {
     "data": {
      "text/html": [
       "<div>\n",
       "<style scoped>\n",
       "    .dataframe tbody tr th:only-of-type {\n",
       "        vertical-align: middle;\n",
       "    }\n",
       "\n",
       "    .dataframe tbody tr th {\n",
       "        vertical-align: top;\n",
       "    }\n",
       "\n",
       "    .dataframe thead th {\n",
       "        text-align: right;\n",
       "    }\n",
       "</style>\n",
       "<table border=\"1\" class=\"dataframe\">\n",
       "  <thead>\n",
       "    <tr style=\"text-align: right;\">\n",
       "      <th></th>\n",
       "      <th>city</th>\n",
       "      <th>state</th>\n",
       "      <th>lat</th>\n",
       "      <th>lng</th>\n",
       "    </tr>\n",
       "  </thead>\n",
       "  <tbody>\n",
       "    <tr>\n",
       "      <th>143</th>\n",
       "      <td>St. Paul</td>\n",
       "      <td>MN</td>\n",
       "      <td>44.9478</td>\n",
       "      <td>-93.1039</td>\n",
       "    </tr>\n",
       "    <tr>\n",
       "      <th>2179</th>\n",
       "      <td>South St. Paul</td>\n",
       "      <td>MN</td>\n",
       "      <td>44.8877</td>\n",
       "      <td>-93.0411</td>\n",
       "    </tr>\n",
       "    <tr>\n",
       "      <th>2194</th>\n",
       "      <td>West St. Paul</td>\n",
       "      <td>MN</td>\n",
       "      <td>44.9018</td>\n",
       "      <td>-93.0858</td>\n",
       "    </tr>\n",
       "    <tr>\n",
       "      <th>3414</th>\n",
       "      <td>North St. Paul</td>\n",
       "      <td>MN</td>\n",
       "      <td>45.0137</td>\n",
       "      <td>-92.9995</td>\n",
       "    </tr>\n",
       "    <tr>\n",
       "      <th>6162</th>\n",
       "      <td>St. Paul Park</td>\n",
       "      <td>MN</td>\n",
       "      <td>44.8359</td>\n",
       "      <td>-92.9949</td>\n",
       "    </tr>\n",
       "  </tbody>\n",
       "</table>\n",
       "</div>"
      ],
      "text/plain": [
       "                city state      lat      lng\n",
       "143         St. Paul    MN  44.9478 -93.1039\n",
       "2179  South St. Paul    MN  44.8877 -93.0411\n",
       "2194   West St. Paul    MN  44.9018 -93.0858\n",
       "3414  North St. Paul    MN  45.0137 -92.9995\n",
       "6162   St. Paul Park    MN  44.8359 -92.9949"
      ]
     },
     "execution_count": 83,
     "metadata": {},
     "output_type": "execute_result"
    }
   ],
   "source": [
    "df_usa_cities_db[ (df_usa_cities_db.city.str.contains(' Paul')) & (df_usa_cities_db.state.str.contains('MN')) ]"
   ]
  },
  {
   "cell_type": "markdown",
   "id": "b5d93d1c-45eb-4fd3-a7dc-59ea4a0d31b6",
   "metadata": {},
   "source": [
    "They didn't join due to mis-abbreviations. Let's add the lat/long coordinates manually:"
   ]
  },
  {
   "cell_type": "code",
   "execution_count": 84,
   "id": "0d4f56e9-3749-49e8-82c3-6c975b0d08f5",
   "metadata": {
    "tags": []
   },
   "outputs": [
    {
     "data": {
      "text/html": [
       "<div>\n",
       "<style scoped>\n",
       "    .dataframe tbody tr th:only-of-type {\n",
       "        vertical-align: middle;\n",
       "    }\n",
       "\n",
       "    .dataframe tbody tr th {\n",
       "        vertical-align: top;\n",
       "    }\n",
       "\n",
       "    .dataframe thead th {\n",
       "        text-align: right;\n",
       "    }\n",
       "</style>\n",
       "<table border=\"1\" class=\"dataframe\">\n",
       "  <thead>\n",
       "    <tr style=\"text-align: right;\">\n",
       "      <th></th>\n",
       "      <th>city</th>\n",
       "      <th>state</th>\n",
       "      <th>lat</th>\n",
       "      <th>lng</th>\n",
       "    </tr>\n",
       "  </thead>\n",
       "  <tbody>\n",
       "    <tr>\n",
       "      <th>30</th>\n",
       "      <td>St Louis</td>\n",
       "      <td>MO</td>\n",
       "      <td>NaN</td>\n",
       "      <td>NaN</td>\n",
       "    </tr>\n",
       "  </tbody>\n",
       "</table>\n",
       "</div>"
      ],
      "text/plain": [
       "        city state  lat  lng\n",
       "30  St Louis    MO  NaN  NaN"
      ]
     },
     "execution_count": 84,
     "metadata": {},
     "output_type": "execute_result"
    }
   ],
   "source": [
    "# find by row index location\n",
    "df_usa_cities_top_100.loc[[30], ['city', 'state', 'lat','lng']]"
   ]
  },
  {
   "cell_type": "code",
   "execution_count": 85,
   "id": "1daf4949-f847-47ba-b15f-b49d49598d66",
   "metadata": {
    "tags": []
   },
   "outputs": [
    {
     "data": {
      "text/html": [
       "<div>\n",
       "<style scoped>\n",
       "    .dataframe tbody tr th:only-of-type {\n",
       "        vertical-align: middle;\n",
       "    }\n",
       "\n",
       "    .dataframe tbody tr th {\n",
       "        vertical-align: top;\n",
       "    }\n",
       "\n",
       "    .dataframe thead th {\n",
       "        text-align: right;\n",
       "    }\n",
       "</style>\n",
       "<table border=\"1\" class=\"dataframe\">\n",
       "  <thead>\n",
       "    <tr style=\"text-align: right;\">\n",
       "      <th></th>\n",
       "      <th>city</th>\n",
       "      <th>state</th>\n",
       "      <th>lat</th>\n",
       "      <th>lng</th>\n",
       "    </tr>\n",
       "  </thead>\n",
       "  <tbody>\n",
       "    <tr>\n",
       "      <th>75</th>\n",
       "      <td>Saint Paul</td>\n",
       "      <td>MN</td>\n",
       "      <td>NaN</td>\n",
       "      <td>NaN</td>\n",
       "    </tr>\n",
       "  </tbody>\n",
       "</table>\n",
       "</div>"
      ],
      "text/plain": [
       "          city state  lat  lng\n",
       "75  Saint Paul    MN  NaN  NaN"
      ]
     },
     "execution_count": 85,
     "metadata": {},
     "output_type": "execute_result"
    }
   ],
   "source": [
    "# find by row index location\n",
    "df_usa_cities_top_100.loc[[75], ['city', 'state', 'lat','lng']]"
   ]
  },
  {
   "cell_type": "code",
   "execution_count": 86,
   "id": "ab01baa3-d538-497f-acc4-520210dfd5c6",
   "metadata": {
    "tags": []
   },
   "outputs": [],
   "source": [
    "# update the lat/long coords manually\n",
    "st_louis_mo = df_usa_cities_db.loc[[22], ['lat','lng']].values.tolist()\n",
    "st_paul_mn = df_usa_cities_db.loc[[143], ['lat','lng']].values.tolist()\n",
    "\n",
    "df_usa_cities_top_100.loc[[30], ['lat','lng']] = st_louis_mo\n",
    "df_usa_cities_top_100.loc[[75], ['lat','lng']] = st_paul_mn"
   ]
  },
  {
   "cell_type": "code",
   "execution_count": 87,
   "id": "4aeeba9e-5eda-4c57-bcc2-744bec47f687",
   "metadata": {
    "tags": []
   },
   "outputs": [
    {
     "data": {
      "text/html": [
       "<div>\n",
       "<style scoped>\n",
       "    .dataframe tbody tr th:only-of-type {\n",
       "        vertical-align: middle;\n",
       "    }\n",
       "\n",
       "    .dataframe tbody tr th {\n",
       "        vertical-align: top;\n",
       "    }\n",
       "\n",
       "    .dataframe thead th {\n",
       "        text-align: right;\n",
       "    }\n",
       "</style>\n",
       "<table border=\"1\" class=\"dataframe\">\n",
       "  <thead>\n",
       "    <tr style=\"text-align: right;\">\n",
       "      <th></th>\n",
       "      <th>city</th>\n",
       "      <th>state</th>\n",
       "      <th>lat</th>\n",
       "      <th>lng</th>\n",
       "    </tr>\n",
       "  </thead>\n",
       "  <tbody>\n",
       "    <tr>\n",
       "      <th>30</th>\n",
       "      <td>St Louis</td>\n",
       "      <td>MO</td>\n",
       "      <td>38.6359</td>\n",
       "      <td>-90.2451</td>\n",
       "    </tr>\n",
       "  </tbody>\n",
       "</table>\n",
       "</div>"
      ],
      "text/plain": [
       "        city state      lat      lng\n",
       "30  St Louis    MO  38.6359 -90.2451"
      ]
     },
     "execution_count": 87,
     "metadata": {},
     "output_type": "execute_result"
    }
   ],
   "source": [
    "# check\n",
    "df_usa_cities_top_100.loc[[30], ['city', 'state', 'lat','lng']]"
   ]
  },
  {
   "cell_type": "code",
   "execution_count": 88,
   "id": "f0f9e780-34cd-4fe6-90ef-96e9dfd89672",
   "metadata": {
    "tags": []
   },
   "outputs": [
    {
     "data": {
      "text/html": [
       "<div>\n",
       "<style scoped>\n",
       "    .dataframe tbody tr th:only-of-type {\n",
       "        vertical-align: middle;\n",
       "    }\n",
       "\n",
       "    .dataframe tbody tr th {\n",
       "        vertical-align: top;\n",
       "    }\n",
       "\n",
       "    .dataframe thead th {\n",
       "        text-align: right;\n",
       "    }\n",
       "</style>\n",
       "<table border=\"1\" class=\"dataframe\">\n",
       "  <thead>\n",
       "    <tr style=\"text-align: right;\">\n",
       "      <th></th>\n",
       "      <th>city</th>\n",
       "      <th>state</th>\n",
       "      <th>lat</th>\n",
       "      <th>lng</th>\n",
       "    </tr>\n",
       "  </thead>\n",
       "  <tbody>\n",
       "    <tr>\n",
       "      <th>75</th>\n",
       "      <td>Saint Paul</td>\n",
       "      <td>MN</td>\n",
       "      <td>44.9478</td>\n",
       "      <td>-93.1039</td>\n",
       "    </tr>\n",
       "  </tbody>\n",
       "</table>\n",
       "</div>"
      ],
      "text/plain": [
       "          city state      lat      lng\n",
       "75  Saint Paul    MN  44.9478 -93.1039"
      ]
     },
     "execution_count": 88,
     "metadata": {},
     "output_type": "execute_result"
    }
   ],
   "source": [
    "# check\n",
    "df_usa_cities_top_100.loc[[75], ['city', 'state', 'lat','lng']]"
   ]
  },
  {
   "cell_type": "code",
   "execution_count": 89,
   "id": "9c5f727e-ac13-4b1a-bcd4-2ab88581995d",
   "metadata": {
    "tags": []
   },
   "outputs": [
    {
     "data": {
      "text/plain": [
       "city                0\n",
       "state               0\n",
       "num_of_companies    0\n",
       "lat                 0\n",
       "lng                 0\n",
       "dtype: int64"
      ]
     },
     "execution_count": 89,
     "metadata": {},
     "output_type": "execute_result"
    }
   ],
   "source": [
    "# confirm there aren't anymore NaN values\n",
    "df_usa_cities_top_100.isnull().sum()"
   ]
  },
  {
   "cell_type": "code",
   "execution_count": 90,
   "id": "66438b2d-d0ac-476b-9e19-728bc77dbda3",
   "metadata": {
    "tags": []
   },
   "outputs": [
    {
     "data": {
      "text/html": [
       "<div>\n",
       "<style scoped>\n",
       "    .dataframe tbody tr th:only-of-type {\n",
       "        vertical-align: middle;\n",
       "    }\n",
       "\n",
       "    .dataframe tbody tr th {\n",
       "        vertical-align: top;\n",
       "    }\n",
       "\n",
       "    .dataframe thead th {\n",
       "        text-align: right;\n",
       "    }\n",
       "</style>\n",
       "<table border=\"1\" class=\"dataframe\">\n",
       "  <thead>\n",
       "    <tr style=\"text-align: right;\">\n",
       "      <th></th>\n",
       "      <th>city</th>\n",
       "      <th>state</th>\n",
       "      <th>num_of_companies</th>\n",
       "      <th>lat</th>\n",
       "      <th>lng</th>\n",
       "    </tr>\n",
       "  </thead>\n",
       "  <tbody>\n",
       "    <tr>\n",
       "      <th>0</th>\n",
       "      <td>New York</td>\n",
       "      <td>NY</td>\n",
       "      <td>49347</td>\n",
       "      <td>40.6943</td>\n",
       "      <td>-73.9249</td>\n",
       "    </tr>\n",
       "    <tr>\n",
       "      <th>20</th>\n",
       "      <td>Minneapolis</td>\n",
       "      <td>MN</td>\n",
       "      <td>5308</td>\n",
       "      <td>44.9635</td>\n",
       "      <td>-93.2678</td>\n",
       "    </tr>\n",
       "    <tr>\n",
       "      <th>74</th>\n",
       "      <td>Beverly Hills</td>\n",
       "      <td>CA</td>\n",
       "      <td>1845</td>\n",
       "      <td>34.0786</td>\n",
       "      <td>-118.4021</td>\n",
       "    </tr>\n",
       "    <tr>\n",
       "      <th>69</th>\n",
       "      <td>Albuquerque</td>\n",
       "      <td>NM</td>\n",
       "      <td>1940</td>\n",
       "      <td>35.1054</td>\n",
       "      <td>-106.6465</td>\n",
       "    </tr>\n",
       "    <tr>\n",
       "      <th>99</th>\n",
       "      <td>Bethesda</td>\n",
       "      <td>MD</td>\n",
       "      <td>1397</td>\n",
       "      <td>38.9866</td>\n",
       "      <td>-77.1188</td>\n",
       "    </tr>\n",
       "  </tbody>\n",
       "</table>\n",
       "</div>"
      ],
      "text/plain": [
       "             city state  num_of_companies      lat       lng\n",
       "0        New York    NY             49347  40.6943  -73.9249\n",
       "20    Minneapolis    MN              5308  44.9635  -93.2678\n",
       "74  Beverly Hills    CA              1845  34.0786 -118.4021\n",
       "69    Albuquerque    NM              1940  35.1054 -106.6465\n",
       "99       Bethesda    MD              1397  38.9866  -77.1188"
      ]
     },
     "execution_count": 90,
     "metadata": {},
     "output_type": "execute_result"
    }
   ],
   "source": [
    "df_usa_cities_top_100.sample(5)"
   ]
  },
  {
   "cell_type": "markdown",
   "id": "3943d07f-a83f-4503-9a31-a82a154637c5",
   "metadata": {},
   "source": [
    "Let's create a new column consisting of `City, State` for use in the map hover:"
   ]
  },
  {
   "cell_type": "code",
   "execution_count": 91,
   "id": "79ad1dc7-8682-490d-b88f-803e0dde28eb",
   "metadata": {
    "tags": []
   },
   "outputs": [
    {
     "data": {
      "text/html": [
       "<div>\n",
       "<style scoped>\n",
       "    .dataframe tbody tr th:only-of-type {\n",
       "        vertical-align: middle;\n",
       "    }\n",
       "\n",
       "    .dataframe tbody tr th {\n",
       "        vertical-align: top;\n",
       "    }\n",
       "\n",
       "    .dataframe thead th {\n",
       "        text-align: right;\n",
       "    }\n",
       "</style>\n",
       "<table border=\"1\" class=\"dataframe\">\n",
       "  <thead>\n",
       "    <tr style=\"text-align: right;\">\n",
       "      <th></th>\n",
       "      <th>city</th>\n",
       "      <th>state</th>\n",
       "      <th>num_of_companies</th>\n",
       "      <th>lat</th>\n",
       "      <th>lng</th>\n",
       "      <th>city_state</th>\n",
       "    </tr>\n",
       "  </thead>\n",
       "  <tbody>\n",
       "    <tr>\n",
       "      <th>68</th>\n",
       "      <td>Grand Rapids</td>\n",
       "      <td>MI</td>\n",
       "      <td>1971</td>\n",
       "      <td>42.9619</td>\n",
       "      <td>-85.6562</td>\n",
       "      <td>Grand Rapids, MI</td>\n",
       "    </tr>\n",
       "    <tr>\n",
       "      <th>95</th>\n",
       "      <td>Anaheim</td>\n",
       "      <td>CA</td>\n",
       "      <td>1498</td>\n",
       "      <td>33.8390</td>\n",
       "      <td>-117.8574</td>\n",
       "      <td>Anaheim, CA</td>\n",
       "    </tr>\n",
       "    <tr>\n",
       "      <th>81</th>\n",
       "      <td>Knoxville</td>\n",
       "      <td>TN</td>\n",
       "      <td>1669</td>\n",
       "      <td>35.9692</td>\n",
       "      <td>-83.9496</td>\n",
       "      <td>Knoxville, TN</td>\n",
       "    </tr>\n",
       "    <tr>\n",
       "      <th>43</th>\n",
       "      <td>Oakland</td>\n",
       "      <td>CA</td>\n",
       "      <td>2851</td>\n",
       "      <td>37.7904</td>\n",
       "      <td>-122.2166</td>\n",
       "      <td>Oakland, CA</td>\n",
       "    </tr>\n",
       "    <tr>\n",
       "      <th>63</th>\n",
       "      <td>Bellevue</td>\n",
       "      <td>WA</td>\n",
       "      <td>2086</td>\n",
       "      <td>47.5951</td>\n",
       "      <td>-122.1535</td>\n",
       "      <td>Bellevue, WA</td>\n",
       "    </tr>\n",
       "  </tbody>\n",
       "</table>\n",
       "</div>"
      ],
      "text/plain": [
       "            city state  num_of_companies      lat       lng        city_state\n",
       "68  Grand Rapids    MI              1971  42.9619  -85.6562  Grand Rapids, MI\n",
       "95       Anaheim    CA              1498  33.8390 -117.8574       Anaheim, CA\n",
       "81     Knoxville    TN              1669  35.9692  -83.9496     Knoxville, TN\n",
       "43       Oakland    CA              2851  37.7904 -122.2166       Oakland, CA\n",
       "63      Bellevue    WA              2086  47.5951 -122.1535      Bellevue, WA"
      ]
     },
     "execution_count": 91,
     "metadata": {},
     "output_type": "execute_result"
    }
   ],
   "source": [
    "df_usa_cities_top_100['city_state'] = df_usa_cities_top_100['city'] + ', ' + df_usa_cities_top_100['state']\n",
    "\n",
    "df_usa_cities_top_100.sample(5)"
   ]
  },
  {
   "cell_type": "code",
   "execution_count": 92,
   "id": "b6c4322c-89e1-4510-b6fa-ccd00ade16c8",
   "metadata": {
    "tags": []
   },
   "outputs": [
    {
     "data": {
      "image/png": "[encoded data removed]"
     },
     "metadata": {},
     "output_type": "display_data"
    }
   ],
   "source": [
    "fig = px.scatter_geo(df_usa_cities_top_100,\n",
    "                    lat='lat', lon='lng',\n",
    "                    locationmode='USA-states',\n",
    "                    scope='usa',\n",
    "                    color='num_of_companies',\n",
    "                    color_continuous_scale='matter',\n",
    "                    title='Top 100 U.S. cities with the most companies',\n",
    "                    labels={'city': 'City', 'state': 'State', 'num_of_companies': 'Number of companies'},\n",
    "                    hover_data={'lat': False, 'lng': False, 'num_of_companies': ':,.0f'},\n",
    "                    hover_name='city_state'\n",
    "                   )\n",
    "\n",
    "fig.update_geos(landcolor='#dadada', subunitcolor='#aaa')\n",
    "\n",
    "show_fig()"
   ]
  },
  {
   "cell_type": "code",
   "execution_count": 93,
   "id": "a8f0f7b0-a20f-4a61-89f5-75a179ffdd91",
   "metadata": {
    "tags": []
   },
   "outputs": [
    {
     "data": {
      "image/png": "[encoded data removed]"
     },
     "metadata": {},
     "output_type": "display_data"
    }
   ],
   "source": [
    "import plotly.graph_objects as go\n",
    "\n",
    "# add and format hover over text\n",
    "df_usa_cities_top_100['text'] = df_usa_cities_top_100['city_state'] + '<br>Number of companies: ' + (df_usa_cities_top_100.num_of_companies.apply(lambda x: '{:,.0f}'.format(x)))\n",
    "\n",
    "# scale bubbles by top 3, next 5, next 15, next 27, last 50\n",
    "limits = [(0,3),(3,8),(8,23),(23,50),(50,100)]\n",
    "colors = ['royalblue', 'crimson', 'lightseagreen', 'orange', 'lightgrey']\n",
    "scale = 200\n",
    "\n",
    "fig = go.Figure()\n",
    "\n",
    "for i in range(len(limits)):\n",
    "    lim = limits[i]\n",
    "    df_sub = df_usa_cities_top_100[lim[0]:lim[1]]\n",
    "    fig.add_trace(go.Scattergeo(\n",
    "        locationmode = 'USA-states',\n",
    "        lat = df_sub['lat'],\n",
    "        lon = df_sub['lng'],\n",
    "        text = df_sub['text'],\n",
    "        hoverinfo='text',\n",
    "        marker = dict(\n",
    "            size = df_sub['num_of_companies']/scale,\n",
    "            color = colors[i],\n",
    "            line_color='rgb(40,40,40)',\n",
    "            line_width=0.5,\n",
    "            sizemode = 'area'\n",
    "        ),\n",
    "        name = '{0} - {1}'.format(lim[0],lim[1])))\n",
    "\n",
    "fig.update_layout(\n",
    "        title_text = 'Top 100 U.S. cities with the most companies',\n",
    "        showlegend = True,\n",
    "        geo = dict(\n",
    "            scope = 'usa',\n",
    "            landcolor = 'rgb(217, 217, 217)',\n",
    "        )\n",
    "    )\n",
    "\n",
    "fig.update_geos(landcolor='#dadada', subunitcolor='#aaa')\n",
    "\n",
    "show_fig()"
   ]
  },
  {
   "cell_type": "markdown",
   "id": "76f3eb2d-8bc6-4066-9ed4-7659d8efbc8d",
   "metadata": {},
   "source": [
    "The above bubble map represents the top cities in the tiers:\n",
    "\n",
    "- Top 3\n",
    "- \\#4 - \\#8\n",
    "- \\#9 - \\#23\n",
    "- \\#24- \\#50\n",
    "- Last 50"
   ]
  }
 ],
 "metadata": {
  "kernelspec": {
   "display_name": "Python 3 (ipykernel)",
   "language": "python",
   "name": "python3"
  },
  "language_info": {
   "codemirror_mode": {
    "name": "ipython",
    "version": 3
   },
   "file_extension": ".py",
   "mimetype": "text/x-python",
   "name": "python",
   "nbconvert_exporter": "python",
   "pygments_lexer": "ipython3",
   "version": "3.10.9"
  }
 },
 "nbformat": 4,
 "nbformat_minor": 5
}
